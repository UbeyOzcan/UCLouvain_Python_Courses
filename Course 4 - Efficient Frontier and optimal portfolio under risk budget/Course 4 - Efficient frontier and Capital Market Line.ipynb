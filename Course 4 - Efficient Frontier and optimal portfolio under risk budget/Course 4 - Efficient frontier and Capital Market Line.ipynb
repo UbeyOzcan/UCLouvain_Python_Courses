{
 "cells": [
  {
   "attachments": {
    "UCLouvain_Logo_Pos_CMJN.png": {
     "image/png": "[encoded data removed]"
    }
   },
   "cell_type": "markdown",
   "id": "fcc9ed49",
   "metadata": {},
   "source": [
    "# Introduction to Python for quantitative finance.\n",
    "\n",
    "\n",
    "![UCLouvain_Logo_Pos_CMJN.png](attachment:UCLouvain_Logo_Pos_CMJN.png)\n",
    "\n",
    "\n",
    "\n",
    "*Author* : Ubeydullah Ozcan (ozcanubey@outlook.com)"
   ]
  },
  {
   "cell_type": "markdown",
   "id": "8d152916",
   "metadata": {},
   "source": [
    "## Course 4 - Efficient frontier\n",
    "\n",
    "### Efficient frontier\n",
    "\n",
    "***Defintion*** : In modern portfolio theory, the efficient frontier (or portfolio frontier) is an investment portfolio which occupies the \"efficient\" parts of the risk–return spectrum. Formally, it is the set of portfolios which satisfy the condition that no other portfolio exists with a higher expected return but with the same standard deviation of return (i.e., the risk)\n",
    "\n",
    "\n",
    "\n"
   ]
  },
  {
   "cell_type": "markdown",
   "id": "aadf9a12",
   "metadata": {},
   "source": [
    "The graph below is the representation in term of risk-return of portfolios and for individual portfolios. The idea behind the efficient frontier is that it is impossible to reach this frontier by investing in indivual assets. "
   ]
  },
  {
   "cell_type": "markdown",
   "id": "51565451",
   "metadata": {},
   "source": [
    "The efficient frontier is build by calculate a set of $\\mu_p$ and $\\sigma_p$ for a set of $\\gamma$. Let's see how does it work in Python."
   ]
  },
  {
   "cell_type": "markdown",
   "id": "ea6ef6b1",
   "metadata": {},
   "source": [
    "### Code"
   ]
  },
  {
   "cell_type": "markdown",
   "id": "49c3f34d",
   "metadata": {},
   "source": [
    "####  1- Needed packages"
   ]
  },
  {
   "cell_type": "code",
   "execution_count": 5,
   "id": "0c7edf3a",
   "metadata": {},
   "outputs": [],
   "source": [
    "from os import name\n",
    "import numpy as np\n",
    "import matplotlib.pyplot as plt\n",
    "import yfinance as yf\n",
    "import pandas as pd\n",
    "import numpy as np\n",
    "import datetime\n",
    "import math"
   ]
  },
  {
   "cell_type": "code",
   "execution_count": 20,
   "id": "dc6ac4f0",
   "metadata": {},
   "outputs": [
    {
     "name": "stdout",
     "output_type": "stream",
     "text": [
      "[*********************100%***********************]  1 of 1 completed\n",
      "[*********************100%***********************]  1 of 1 completed\n",
      "[*********************100%***********************]  1 of 1 completed\n"
     ]
    }
   ],
   "source": [
    "assets = ['AAPL', 'NVDA', \"AMZN\"]\n",
    "pf_data = pd.DataFrame()\n",
    "for x in assets:\n",
    "    pf_data[x] = yf.download(x, start  = '2020-1-1', end = '2023-1-1')[\"Close\"]"
   ]
  },
  {
   "cell_type": "code",
   "execution_count": 21,
   "id": "d79348ea",
   "metadata": {},
   "outputs": [
    {
     "data": {
      "text/html": [
       "<div>\n",
       "<style scoped>\n",
       "    .dataframe tbody tr th:only-of-type {\n",
       "        vertical-align: middle;\n",
       "    }\n",
       "\n",
       "    .dataframe tbody tr th {\n",
       "        vertical-align: top;\n",
       "    }\n",
       "\n",
       "    .dataframe thead th {\n",
       "        text-align: right;\n",
       "    }\n",
       "</style>\n",
       "<table border=\"1\" class=\"dataframe\">\n",
       "  <thead>\n",
       "    <tr style=\"text-align: right;\">\n",
       "      <th></th>\n",
       "      <th>AAPL</th>\n",
       "      <th>NVDA</th>\n",
       "      <th>AMZN</th>\n",
       "    </tr>\n",
       "    <tr>\n",
       "      <th>Date</th>\n",
       "      <th></th>\n",
       "      <th></th>\n",
       "      <th></th>\n",
       "    </tr>\n",
       "  </thead>\n",
       "  <tbody>\n",
       "    <tr>\n",
       "      <th>2020-01-03</th>\n",
       "      <td>-0.009770</td>\n",
       "      <td>-0.016135</td>\n",
       "      <td>-0.012213</td>\n",
       "    </tr>\n",
       "    <tr>\n",
       "      <th>2020-01-06</th>\n",
       "      <td>0.007937</td>\n",
       "      <td>0.004185</td>\n",
       "      <td>0.014776</td>\n",
       "    </tr>\n",
       "    <tr>\n",
       "      <th>2020-01-07</th>\n",
       "      <td>-0.004714</td>\n",
       "      <td>0.012034</td>\n",
       "      <td>0.002089</td>\n",
       "    </tr>\n",
       "    <tr>\n",
       "      <th>2020-01-08</th>\n",
       "      <td>0.015958</td>\n",
       "      <td>0.001874</td>\n",
       "      <td>-0.007839</td>\n",
       "    </tr>\n",
       "    <tr>\n",
       "      <th>2020-01-09</th>\n",
       "      <td>0.021018</td>\n",
       "      <td>0.010923</td>\n",
       "      <td>0.004788</td>\n",
       "    </tr>\n",
       "  </tbody>\n",
       "</table>\n",
       "</div>"
      ],
      "text/plain": [
       "                AAPL      NVDA      AMZN\n",
       "Date                                    \n",
       "2020-01-03 -0.009770 -0.016135 -0.012213\n",
       "2020-01-06  0.007937  0.004185  0.014776\n",
       "2020-01-07 -0.004714  0.012034  0.002089\n",
       "2020-01-08  0.015958  0.001874 -0.007839\n",
       "2020-01-09  0.021018  0.010923  0.004788"
      ]
     },
     "execution_count": 21,
     "metadata": {},
     "output_type": "execute_result"
    }
   ],
   "source": [
    "log_returns = np.log(pf_data/pf_data.shift(1)).dropna()\n",
    "log_returns.head()"
   ]
  },
  {
   "cell_type": "code",
   "execution_count": 64,
   "id": "370de4e4",
   "metadata": {},
   "outputs": [],
   "source": [
    "Nsim = 50000\n",
    "n = len(assets)\n",
    "w = np.zeros((Nsim, n))\n",
    "portfolio_returns = []\n",
    "portfolio_volatilities = []\n",
    "sharpe_ratio = []\n",
    "rf = 0.05\n",
    "\n",
    "for i in np.arange(Nsim):\n",
    "    weights = np.array(np.random.random(n))\n",
    "    weights = weights/np.sum(weights)\n",
    "    portfolio_returns.append(np.sum(weights * log_returns.mean()) * 250)\n",
    "    portfolio_volatilities.append(np.sqrt(np.dot(weights.T,np.dot(log_returns.cov() * 250, weights))))\n",
    "    sharpe_ratio.append((portfolio_returns[i] - np.array(rf))/portfolio_volatilities[i])\n",
    "    w[i,:] = weights\n",
    "\n",
    "portfolios = pd.DataFrame({assets[0] : w[:,0], assets[1] : w[:,1], assets[2] : w[:,2],\n",
    "                           'Return': portfolio_returns, 'Volatility':portfolio_volatilities, \n",
    "                          'sharpe_ratio' : sharpe_ratio})"
   ]
  },
  {
   "cell_type": "code",
   "execution_count": 65,
   "id": "450d01c4",
   "metadata": {},
   "outputs": [
    {
     "data": {
      "text/html": [
       "<div>\n",
       "<style scoped>\n",
       "    .dataframe tbody tr th:only-of-type {\n",
       "        vertical-align: middle;\n",
       "    }\n",
       "\n",
       "    .dataframe tbody tr th {\n",
       "        vertical-align: top;\n",
       "    }\n",
       "\n",
       "    .dataframe thead th {\n",
       "        text-align: right;\n",
       "    }\n",
       "</style>\n",
       "<table border=\"1\" class=\"dataframe\">\n",
       "  <thead>\n",
       "    <tr style=\"text-align: right;\">\n",
       "      <th></th>\n",
       "      <th>AAPL</th>\n",
       "      <th>NVDA</th>\n",
       "      <th>AMZN</th>\n",
       "      <th>Return</th>\n",
       "      <th>Volatility</th>\n",
       "      <th>sharpe_ratio</th>\n",
       "    </tr>\n",
       "  </thead>\n",
       "  <tbody>\n",
       "    <tr>\n",
       "      <th>0</th>\n",
       "      <td>0.347079</td>\n",
       "      <td>0.324535</td>\n",
       "      <td>0.328386</td>\n",
       "      <td>0.145457</td>\n",
       "      <td>0.388785</td>\n",
       "      <td>0.245527</td>\n",
       "    </tr>\n",
       "    <tr>\n",
       "      <th>1</th>\n",
       "      <td>0.279481</td>\n",
       "      <td>0.132865</td>\n",
       "      <td>0.587653</td>\n",
       "      <td>0.066185</td>\n",
       "      <td>0.365064</td>\n",
       "      <td>0.044336</td>\n",
       "    </tr>\n",
       "    <tr>\n",
       "      <th>2</th>\n",
       "      <td>0.493955</td>\n",
       "      <td>0.316229</td>\n",
       "      <td>0.189817</td>\n",
       "      <td>0.175274</td>\n",
       "      <td>0.388343</td>\n",
       "      <td>0.322587</td>\n",
       "    </tr>\n",
       "    <tr>\n",
       "      <th>3</th>\n",
       "      <td>0.014824</td>\n",
       "      <td>0.310173</td>\n",
       "      <td>0.675004</td>\n",
       "      <td>0.066890</td>\n",
       "      <td>0.403656</td>\n",
       "      <td>0.041843</td>\n",
       "    </tr>\n",
       "    <tr>\n",
       "      <th>4</th>\n",
       "      <td>0.548816</td>\n",
       "      <td>0.270143</td>\n",
       "      <td>0.181042</td>\n",
       "      <td>0.171999</td>\n",
       "      <td>0.380993</td>\n",
       "      <td>0.320213</td>\n",
       "    </tr>\n",
       "  </tbody>\n",
       "</table>\n",
       "</div>"
      ],
      "text/plain": [
       "       AAPL      NVDA      AMZN    Return  Volatility  sharpe_ratio\n",
       "0  0.347079  0.324535  0.328386  0.145457    0.388785      0.245527\n",
       "1  0.279481  0.132865  0.587653  0.066185    0.365064      0.044336\n",
       "2  0.493955  0.316229  0.189817  0.175274    0.388343      0.322587\n",
       "3  0.014824  0.310173  0.675004  0.066890    0.403656      0.041843\n",
       "4  0.548816  0.270143  0.181042  0.171999    0.380993      0.320213"
      ]
     },
     "execution_count": 65,
     "metadata": {},
     "output_type": "execute_result"
    }
   ],
   "source": [
    "portfolios.head()"
   ]
  },
  {
   "cell_type": "code",
   "execution_count": 66,
   "id": "9b951208",
   "metadata": {},
   "outputs": [
    {
     "data": {
      "text/plain": [
       "0.44314977727851995"
      ]
     },
     "execution_count": 66,
     "metadata": {},
     "output_type": "execute_result"
    }
   ],
   "source": [
    "max(portfolios[\"sharpe_ratio\"])"
   ]
  },
  {
   "cell_type": "code",
   "execution_count": 67,
   "id": "38fb3971",
   "metadata": {},
   "outputs": [
    {
     "data": {
      "text/html": [
       "<div>\n",
       "<style scoped>\n",
       "    .dataframe tbody tr th:only-of-type {\n",
       "        vertical-align: middle;\n",
       "    }\n",
       "\n",
       "    .dataframe tbody tr th {\n",
       "        vertical-align: top;\n",
       "    }\n",
       "\n",
       "    .dataframe thead th {\n",
       "        text-align: right;\n",
       "    }\n",
       "</style>\n",
       "<table border=\"1\" class=\"dataframe\">\n",
       "  <thead>\n",
       "    <tr style=\"text-align: right;\">\n",
       "      <th></th>\n",
       "      <th>Result</th>\n",
       "    </tr>\n",
       "  </thead>\n",
       "  <tbody>\n",
       "    <tr>\n",
       "      <th>AAPL</th>\n",
       "      <td>0.278643</td>\n",
       "    </tr>\n",
       "    <tr>\n",
       "      <th>NVDA</th>\n",
       "      <td>0.720945</td>\n",
       "    </tr>\n",
       "    <tr>\n",
       "      <th>AMZN</th>\n",
       "      <td>0.000412</td>\n",
       "    </tr>\n",
       "    <tr>\n",
       "      <th>Return</th>\n",
       "      <td>0.263183</td>\n",
       "    </tr>\n",
       "    <tr>\n",
       "      <th>Volatility</th>\n",
       "      <td>0.481062</td>\n",
       "    </tr>\n",
       "    <tr>\n",
       "      <th>sharpe_ratio</th>\n",
       "      <td>0.443150</td>\n",
       "    </tr>\n",
       "  </tbody>\n",
       "</table>\n",
       "</div>"
      ],
      "text/plain": [
       "                Result\n",
       "AAPL          0.278643\n",
       "NVDA          0.720945\n",
       "AMZN          0.000412\n",
       "Return        0.263183\n",
       "Volatility    0.481062\n",
       "sharpe_ratio  0.443150"
      ]
     },
     "execution_count": 67,
     "metadata": {},
     "output_type": "execute_result"
    }
   ],
   "source": [
    "index = portfolios[\"sharpe_ratio\"].idxmax()\n",
    "result = pd.DataFrame(portfolios.iloc[index])\n",
    "result.columns = ['Result']\n",
    "result"
   ]
  },
  {
   "cell_type": "code",
   "execution_count": 69,
   "id": "9d312b47",
   "metadata": {},
   "outputs": [
    {
     "data": {
      "text/html": [
       "<div>\n",
       "<style scoped>\n",
       "    .dataframe tbody tr th:only-of-type {\n",
       "        vertical-align: middle;\n",
       "    }\n",
       "\n",
       "    .dataframe tbody tr th {\n",
       "        vertical-align: top;\n",
       "    }\n",
       "\n",
       "    .dataframe thead th {\n",
       "        text-align: right;\n",
       "    }\n",
       "</style>\n",
       "<table border=\"1\" class=\"dataframe\">\n",
       "  <thead>\n",
       "    <tr style=\"text-align: right;\">\n",
       "      <th></th>\n",
       "      <th>Result</th>\n",
       "    </tr>\n",
       "  </thead>\n",
       "  <tbody>\n",
       "    <tr>\n",
       "      <th>AAPL</th>\n",
       "      <td>0.608526</td>\n",
       "    </tr>\n",
       "    <tr>\n",
       "      <th>NVDA</th>\n",
       "      <td>0.000060</td>\n",
       "    </tr>\n",
       "    <tr>\n",
       "      <th>AMZN</th>\n",
       "      <td>0.391414</td>\n",
       "    </tr>\n",
       "    <tr>\n",
       "      <th>Return</th>\n",
       "      <td>0.094694</td>\n",
       "    </tr>\n",
       "    <tr>\n",
       "      <th>Volatility</th>\n",
       "      <td>0.344564</td>\n",
       "    </tr>\n",
       "    <tr>\n",
       "      <th>sharpe_ratio</th>\n",
       "      <td>0.129712</td>\n",
       "    </tr>\n",
       "  </tbody>\n",
       "</table>\n",
       "</div>"
      ],
      "text/plain": [
       "                Result\n",
       "AAPL          0.608526\n",
       "NVDA          0.000060\n",
       "AMZN          0.391414\n",
       "Return        0.094694\n",
       "Volatility    0.344564\n",
       "sharpe_ratio  0.129712"
      ]
     },
     "execution_count": 69,
     "metadata": {},
     "output_type": "execute_result"
    }
   ],
   "source": [
    "index2 = portfolios[\"Volatility\"].idxmin()\n",
    "result2 = pd.DataFrame(portfolios.iloc[index2])\n",
    "result2.columns = ['Result']\n",
    "result2"
   ]
  },
  {
   "cell_type": "code",
   "execution_count": 68,
   "id": "c8b22566",
   "metadata": {},
   "outputs": [],
   "source": [
    "vol_maxsr = result.at[\"Volatility\", \"Result\"]\n",
    "ret_maxsr = result.at[\"Return\", \"Result\"]"
   ]
  },
  {
   "cell_type": "code",
   "execution_count": 70,
   "id": "42d6f657",
   "metadata": {},
   "outputs": [],
   "source": [
    "vol_minvol = result2.at[\"Volatility\", \"Result\"]\n",
    "ret_minvol = result2.at[\"Return\", \"Result\"]"
   ]
  },
  {
   "cell_type": "code",
   "execution_count": 71,
   "id": "29430c24",
   "metadata": {},
   "outputs": [
    {
     "name": "stdout",
     "output_type": "stream",
     "text": [
      "0.44314977727851984\n"
     ]
    }
   ],
   "source": [
    "x2 = [0, float(vol_maxsr)]\n",
    "y2 = [rf, float(ret_maxsr)]\n",
    "slope, intercept = np.polyfit(x2,y2,1)\n",
    "print(slope)"
   ]
  },
  {
   "cell_type": "code",
   "execution_count": 72,
   "id": "361ef6da",
   "metadata": {},
   "outputs": [],
   "source": [
    "range = np.arange(0, 0.8, 0.001)\n",
    "rangey = slope * range + intercept"
   ]
  },
  {
   "cell_type": "code",
   "execution_count": 73,
   "id": "30d45e71",
   "metadata": {},
   "outputs": [
    {
     "data": {
      "image/png": "[encoded data removed]",
      "text/plain": [
       "<Figure size 1440x432 with 2 Axes>"
      ]
     },
     "metadata": {
      "needs_background": "light"
     },
     "output_type": "display_data"
    }
   ],
   "source": [
    "import matplotlib.pyplot as plt\n",
    "plt.figure(figsize = (20,6))\n",
    "plt.scatter(x = portfolios[\"Volatility\"], y = portfolios[\"Return\"], c = portfolios[\"sharpe_ratio\"])\n",
    "plt.xlabel(\"Expected Volatility\")\n",
    "plt.ylabel(\"Expected Return\")\n",
    "plt.colorbar(label = 'Sharpe Ratio')\n",
    "plt.scatter(vol_maxsr, ret_maxsr, c = \"red\")\n",
    "plt.scatter(vol_minvol, ret_minvol, c = \"yellow\")\n",
    "plt.scatter(0, rf, c = \"black\")\n",
    "plt.plot(range, rangey)\n",
    "plt.title(\"Efficient Frontier\");"
   ]
  },
  {
   "cell_type": "markdown",
   "id": "8745e599",
   "metadata": {},
   "source": [
    "### More mathematical way to find the weights that maximise the sharpe-ratio"
   ]
  },
  {
   "cell_type": "markdown",
   "id": "fdcdae93",
   "metadata": {},
   "source": [
    "Here is the optimization program to apply in order to find the weights that maximize the sharpe-ratio."
   ]
  },
  {
   "cell_type": "markdown",
   "id": "7d0f0e50",
   "metadata": {},
   "source": [
    "$$\\underset{w}{minimize} \\: \\: \\: w^T \\Sigma w$$ \n",
    "$$\\text{subject to} \\: \\: \\: \\mu * w \\geq r_{min} $$\n",
    "$$ w \\geq 0 $$\n",
    "$$ 1^T w = 1 $$"
   ]
  },
  {
   "cell_type": "markdown",
   "id": "1de3dfd6",
   "metadata": {},
   "source": [
    "which is equivalent to,"
   ]
  },
  {
   "cell_type": "markdown",
   "id": "2d294281",
   "metadata": {},
   "source": [
    "$$\\underset{w}{minimize} \\: \\: \\: - SR(w)$$ \n",
    "$$ w \\geq 0 $$\n",
    "$$ 1^T w = 1 $$"
   ]
  },
  {
   "cell_type": "code",
   "execution_count": 34,
   "id": "185eb811",
   "metadata": {},
   "outputs": [],
   "source": [
    "from scipy.optimize import minimize\n",
    "\n",
    "def negSR(w):\n",
    "    w = np.array(w)\n",
    "    R = np.sum(w * log_returns.mean()) * 250\n",
    "    V = np.sqrt(np.dot(w.T,np.dot(log_returns.cov() * 250, w)))\n",
    "    SR = (R - rf)/V\n",
    "    return -1*SR\n",
    "\n",
    "def check(w):\n",
    "    return np.sum(w) - 1\n",
    "\n",
    "w0 = [0.25, 0.25, 0.25]\n",
    "bounds = ((0,1),(0,1),(0,1))\n",
    "constraints = ({'type':'eq', 'fun':check})\n",
    "w_opt = minimize(negSR, w0, method = \"SLSQP\", bounds = bounds, constraints = constraints)"
   ]
  },
  {
   "cell_type": "code",
   "execution_count": 35,
   "id": "28fc1279",
   "metadata": {},
   "outputs": [
    {
     "data": {
      "text/plain": [
       "array([0.26187976, 0.73812024, 0.        ])"
      ]
     },
     "execution_count": 35,
     "metadata": {},
     "output_type": "execute_result"
    }
   ],
   "source": [
    "w_opt.x"
   ]
  },
  {
   "cell_type": "code",
   "execution_count": 36,
   "id": "081538fd",
   "metadata": {},
   "outputs": [
    {
     "data": {
      "text/plain": [
       "AAPL            0.303411\n",
       "NVDA            0.695632\n",
       "AMZN            0.000957\n",
       "Return          0.260193\n",
       "Volatility      0.474715\n",
       "sharpe_ratio    0.442777\n",
       "Name: 2143, dtype: float64"
      ]
     },
     "execution_count": 36,
     "metadata": {},
     "output_type": "execute_result"
    }
   ],
   "source": [
    "portfolios.iloc[index]"
   ]
  },
  {
   "cell_type": "code",
   "execution_count": 37,
   "id": "092b4448",
   "metadata": {},
   "outputs": [
    {
     "data": {
      "text/plain": [
       "     fun: -0.44335587316418523\n",
       "     jac: array([-0.10293559, -0.10302331,  0.33124036])\n",
       " message: 'Optimization terminated successfully'\n",
       "    nfev: 24\n",
       "     nit: 6\n",
       "    njev: 6\n",
       "  status: 0\n",
       " success: True\n",
       "       x: array([0.26187976, 0.73812024, 0.        ])"
      ]
     },
     "execution_count": 37,
     "metadata": {},
     "output_type": "execute_result"
    }
   ],
   "source": [
    "w_opt"
   ]
  },
  {
   "cell_type": "code",
   "execution_count": 38,
   "id": "8bfabbe1",
   "metadata": {},
   "outputs": [
    {
     "name": "stdout",
     "output_type": "stream",
     "text": [
      "The maximum value of sharpe-ratio is 0.44335587316418523\n"
     ]
    }
   ],
   "source": [
    "print(\"The maximum value of sharpe-ratio is\", -w_opt.fun)"
   ]
  },
  {
   "cell_type": "code",
   "execution_count": 39,
   "id": "497c2281",
   "metadata": {},
   "outputs": [
    {
     "name": "stdout",
     "output_type": "stream",
     "text": [
      "The weights that maximize the sharpe ratio are as follow :  0.262 for AAPL   0.738  for  NVDA  and  0.0  for  AMZN\n"
     ]
    }
   ],
   "source": [
    "print(\"The weights that maximize the sharpe ratio are as follow : \",w_opt.x[0].round(3), \n",
    "      \"for\", assets[0],\" \",w_opt.x[1].round(3), \" for \",  assets[1], \" and \", w_opt.x[2].round(3), \" for \", assets[2])"
   ]
  },
  {
   "cell_type": "markdown",
   "id": "b4f563e7",
   "metadata": {},
   "source": [
    "### Optimal portfolio given a risk budget (For you information, not mandatory)\n",
    "Given a risk budget, this leads to a unique portfolio.\n",
    "\n",
    "If we want Loss > 25% with less than 1% probability, the portfolio X must obey : \n",
    "$$\\mu_x + \\sigma_x \\Phi^{-1}(0.01) \\geq -25\\% \\rightarrow \\mu_x \\geq -25\\% + \\sigma_x \\Phi^{-1}(0.99) $$ "
   ]
  },
  {
   "cell_type": "code",
   "execution_count": 37,
   "id": "ea640cc7",
   "metadata": {},
   "outputs": [],
   "source": [
    "from scipy.stats import norm\n",
    "from scipy.optimize import fsolve\n",
    "\n",
    "def intersection(sigma_int):\n",
    "    return (-0.25 + sigma_int * norm.ppf(0.99)) - (slope * sigma_int + RF)"
   ]
  },
  {
   "cell_type": "code",
   "execution_count": 38,
   "id": "b832f9b8",
   "metadata": {},
   "outputs": [
    {
     "data": {
      "text/plain": [
       "array([0.24470495])"
      ]
     },
     "execution_count": 38,
     "metadata": {},
     "output_type": "execute_result"
    }
   ],
   "source": [
    "sigma_intersection = fsolve(intersection, 0)\n",
    "sigma_intersection"
   ]
  },
  {
   "cell_type": "code",
   "execution_count": 39,
   "id": "36719582",
   "metadata": {},
   "outputs": [
    {
     "data": {
      "text/plain": [
       "array([0.31926885])"
      ]
     },
     "execution_count": 39,
     "metadata": {},
     "output_type": "execute_result"
    }
   ],
   "source": [
    "mu_intersection = -0.25 + sigma_intersection * norm.ppf(0.99)\n",
    "mu_intersection"
   ]
  },
  {
   "cell_type": "code",
   "execution_count": 40,
   "id": "953180be",
   "metadata": {},
   "outputs": [],
   "source": [
    "x_cml = np.arange(0,1,0.05)\n",
    "y_cml = (x_cml * slope) + RF\n",
    "\n",
    "sigma_i = np.arange(0.01, 1, 0.01)\n",
    "mu_i = -0.25 + sigma_i * norm.ppf(0.99)"
   ]
  },
  {
   "cell_type": "code",
   "execution_count": 41,
   "id": "d66f0aa5",
   "metadata": {
    "scrolled": true
   },
   "outputs": [
    {
     "data": {
      "image/png": "[encoded data removed]",
      "text/plain": [
       "<Figure size 432x288 with 1 Axes>"
      ]
     },
     "metadata": {
      "needs_background": "light"
     },
     "output_type": "display_data"
    }
   ],
   "source": [
    "fig, ax = plt.subplots()\n",
    "\n",
    "ax.plot(x_cml, y_cml)\n",
    "ax.plot(sigma_i, mu_i)\n",
    "ax.scatter(sigma_msr, mu_msr)\n",
    "ax.scatter(sigma_intersection, mu_intersection)\n",
    "\n",
    "\n",
    "plt.show()"
   ]
  },
  {
   "cell_type": "markdown",
   "id": "d52cd803",
   "metadata": {},
   "source": [
    "***Figure***: All portfolios on the left of the orange line makes the constraint. Only one is optimal, at\n",
    "the intersection with the EF (little leverage). Being more tolerant moves the dotted line to the\n",
    "right."
   ]
  },
  {
   "cell_type": "code",
   "execution_count": 42,
   "id": "3ef6ea62",
   "metadata": {},
   "outputs": [],
   "source": [
    "def opt_ptf_risk_budg(gamma):\n",
    "    ww = (np.linalg.inv(cov) @ (mu - RF))/gamma\n",
    "    mu2 = (ww.T @ mu) + RF*(1 - ww.T @ np.full((len(mu), 1), 1))\n",
    "    return float(mu2) - float(mu_intersection)"
   ]
  },
  {
   "cell_type": "code",
   "execution_count": 43,
   "id": "f8e201e6",
   "metadata": {},
   "outputs": [
    {
     "name": "stdout",
     "output_type": "stream",
     "text": [
      "the optimal gamma is  [4.17141802]\n"
     ]
    }
   ],
   "source": [
    "opt_gamma = fsolve(opt_ptf_risk_budg, 1)\n",
    "print(\"the optimal gamma is \", opt_gamma)"
   ]
  },
  {
   "cell_type": "code",
   "execution_count": 44,
   "id": "598bc0e7",
   "metadata": {},
   "outputs": [
    {
     "name": "stdout",
     "output_type": "stream",
     "text": [
      "the optimal portfolio under risk budget is  [[ 0.57483814]\n",
      " [-0.1696679 ]\n",
      " [ 0.47341699]]\n"
     ]
    }
   ],
   "source": [
    "print(\"the optimal portfolio under risk budget is \", (np.linalg.inv(cov) @ (mu - RF))/opt_gamma)"
   ]
  }
 ],
 "metadata": {
  "kernelspec": {
   "display_name": "Python 3 (ipykernel)",
   "language": "python",
   "name": "python3"
  },
  "language_info": {
   "codemirror_mode": {
    "name": "ipython",
    "version": 3
   },
   "file_extension": ".py",
   "mimetype": "text/x-python",
   "name": "python",
   "nbconvert_exporter": "python",
   "pygments_lexer": "ipython3",
   "version": "3.9.15"
  }
 },
 "nbformat": 4,
 "nbformat_minor": 5
}
