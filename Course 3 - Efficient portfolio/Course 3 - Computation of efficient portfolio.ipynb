{
 "cells": [
  {
   "attachments": {
    "UCLouvain_Logo_Pos_CMJN.png": {
     "image/png": "[encoded data removed]"
    }
   },
   "cell_type": "markdown",
   "id": "724bc6c0",
   "metadata": {},
   "source": [
    "# Introduction to Python for quantitative finance.\n",
    "\n",
    "\n",
    "![UCLouvain_Logo_Pos_CMJN.png](attachment:UCLouvain_Logo_Pos_CMJN.png)\n",
    "\n",
    "\n",
    "\n",
    "*Author* : Ubeydullah Ozcan (ozcanubey@outlook.com)"
   ]
  },
  {
   "cell_type": "markdown",
   "id": "11e2e516",
   "metadata": {},
   "source": [
    "# Course 3 - Efficient portfolio\n",
    "\n",
    "In this course, we will first introduce the Markowitz' model in theoretical/mathematical point of view before going into the computational aspect. \n",
    "More theoretical details could be find in [This paper](http://www.its.caltech.edu/~rosentha/courses/BEM103/Readings/JWCh07.pdf)"
   ]
  },
  {
   "cell_type": "markdown",
   "id": "151a242a",
   "metadata": {},
   "source": [
    "## 1) Principle\n",
    "In finance, the Markowitz model ─ put forward by Harry Markowitz in 1952 ─ is a portfolio optimization model; it assists in the selection of the most efficient portfolio by analyzing various possible portfolios of the given securities. Here, by choosing securities that do not 'move' exactly together, the HM model shows investors how to reduce their risk. The HM model is also called mean-variance model due to the fact that it is based on expected returns (mean) and the standard deviation (variance) of the various portfolios. It is foundational to Modern portfolio theory."
   ]
  },
  {
   "cell_type": "markdown",
   "id": "1029a3b7",
   "metadata": {},
   "source": [
    "## 2) Assumptions\n",
    "Markowitz made the following assumptions while developing the HM model:\n",
    "\n",
    "Risk of a portfolio is based on the variability of returns from said portfolio.\n",
    "\n",
    " - An investor is risk averse.\n",
    " - An investor prefers to increase consumption.\n",
    " - The investor's utility function is concave and increasing, due to their risk aversion and consumption preference.\n",
    " - An investor either maximizes their portfolio return for a given level of risk or minimizes their risk for a given return.\n",
    " - An investor is rational in nature.\n",
    " \n",
    "To choose the best portfolio from a number of possible portfolios, each with different return and risk, two separate decisions are to be made, detailed in the below sections:\n",
    "\n",
    " - Determination of a set of efficient portfolios.\n",
    " - Selection of the best portfolio out of the efficient set."
   ]
  },
  {
   "cell_type": "markdown",
   "id": "f5a49829",
   "metadata": {},
   "source": [
    "## 3) Diverfication : n independent stocks\n",
    "Let $X_i$ with $i$ in ${1,2, ..., n}$ with $i \\in \\mathbb{N}$ be a set of independant random variables which represent the returns of a set of $n$ stocks. Let suppose that all the stocks have same expected return and variance : \n",
    "$$\\mathbb{E}[X_i] = \\mu$$ and $$ Var[X_i] = \\sigma^2 $$ \n",
    "\n",
    "Consider, equal-weighted portofio $P = \\frac{1}{n} \\sum_{i = 1}^n X_i $. The expectation and variance of EWP are : \n",
    "$$ \\mu_P = \\mathbb{E}[P] = \\frac{1}{n}n \\mu = \\mu $$ and by using independance property $$\\sigma_P^2 = Var[P] = \\frac{1}{n^2} (n\\sigma^2) = \\frac{\\sigma^2}{n} $$\n",
    "\n",
    "Question : What is the consequence of having $n \\rightarrow \\infty$ ? Is it realistic ? What cause it ?"
   ]
  },
  {
   "cell_type": "markdown",
   "id": "d6eed16e",
   "metadata": {},
   "source": [
    "## 4) Diverfication : n correlated stocks"
   ]
  },
  {
   "cell_type": "markdown",
   "id": "832888fc",
   "metadata": {},
   "source": [
    "In case of there is correlation between stocks, only the variance of the portfolio will be different :\n",
    "\n",
    "$$\\sigma_P^2 = Var \\left(\\frac{1}{n}\\sum_{i = 1}^n X_i \\right) = \\frac{\\sigma^2}{n}(1+ \\rho (n-1)) $$\n",
    "\n",
    "Now, let's take the limit of this of $n$ tend to $\\infty$. The limit will be equal to $\\rho$. This conclusion is valid for $\\mu_i \\neq \\mu_j$, $\\sigma_i \\neq \\sigma_j$ and $\\rho_{i,j} \\neq \\rho_{k,l}$"
   ]
  },
  {
   "cell_type": "markdown",
   "id": "412071a4",
   "metadata": {},
   "source": [
    "$$\\lim_{n \\rightarrow \\infty}\\frac{\\sigma^2}{n}(1+ \\rho (n-1)) = \\lim_{n \\rightarrow \\infty} \\frac{\\sigma^2}{n} + \\frac{\\sigma^2 \\rho (n-1)}{n} $$ \n",
    "$$ = \\lim_{n \\rightarrow \\infty} \\frac{ \\rho n }{n} - \\frac{\\rho}{n} $$\n",
    "$$ =  \\rho $$"
   ]
  },
  {
   "cell_type": "code",
   "execution_count": 4,
   "id": "765adcb7",
   "metadata": {},
   "outputs": [],
   "source": [
    "def fun(n, rho):\n",
    "    return (1+rho*(n-1))/n"
   ]
  },
  {
   "cell_type": "code",
   "execution_count": 3,
   "id": "f46fae25",
   "metadata": {},
   "outputs": [
    {
     "data": {
      "image/png": "[encoded data removed]",
      "text/plain": [
       "<Figure size 432x288 with 1 Axes>"
      ]
     },
     "metadata": {
      "needs_background": "light"
     },
     "output_type": "display_data"
    }
   ],
   "source": [
    "import matplotlib.pyplot as plt\n",
    "import numpy as np\n",
    "y = fun(n = np.arange(1,300), rho = 0.5)\n",
    "y2 = fun(n = np.arange(1,300), rho = 0.1)\n",
    "x = np.arange(1,300)\n",
    "\n",
    "fig, ax = plt.subplots()\n",
    "ax.plot(x, y, label = \"rho = 0.5\")\n",
    "ax.plot(x, y2, label = \"rho = 0.1\")\n",
    "\n",
    "ax.set(xlabel='n', ylabel='f(n)',\n",
    "       title='Evolution of the function')\n",
    "ax.grid()\n",
    "ax.set_ylim([0, 1])\n",
    "plt.legend(loc=\"upper right\")\n",
    "plt.show()"
   ]
  },
  {
   "cell_type": "markdown",
   "id": "9adf4aa0",
   "metadata": {},
   "source": [
    "## 5) Definition of optimal portfolio\n",
    "\n",
    "An optimal portfolio could be define as follow :\n",
    "\n",
    "   - Maximize $\\mu_{P(w)}$ while keeping $\\sigma_{P(w)}$ < $\\sigma_0$\n",
    "   - Minimize $\\sigma_{P(w)}$ while keeping $\\mu_{P(w)}$ > $\\mu_0 $\n",
    "  \n",
    "To obtain it, let's maximize this quadratic utility function :\n",
    "$$ w(\\gamma) = \\underset{w}{argmax} f(w;\\gamma) $$\n",
    "where $f(w;\\gamma) := \\mu_{P(w)} - \\frac{\\gamma}{2} \\sigma_{P(w)}^2 $\n",
    "\n",
    "if $\\gamma = 0$ : max. expected return = no risk-aversion (risk does not matter).\n",
    "\n",
    "if $\\gamma = \\infty$ : min. variance = full-aversion (only risk matters)\n",
    "\n",
    "### Notation\n",
    "\n",
    "Portfolio return : weighted sum of the assets' returns\n",
    "$$P = \\sum_{i = 1}^n w_i X_i = w^T X $$\n",
    "\n",
    "The column vector w is the vector of portfolio weights:\n",
    "\n",
    "$$   \\begin{align}\n",
    "    w &= \\begin{pmatrix}\n",
    "           w_{1} \\\\\n",
    "           w_{2} \\\\\n",
    "           \\vdots \\\\\n",
    "           w_{n}\n",
    "         \\end{pmatrix}\n",
    "  \\end{align} $$ and $$ w^T = (w_1, w_2, ..., w_n) $$\n",
    "  \n",
    "The column vector X is the vector of assets' returns:\n",
    "$$   \\begin{align}\n",
    "    X &= \\begin{pmatrix}\n",
    "           X_{1} \\\\\n",
    "           X_{2} \\\\\n",
    "           \\vdots \\\\\n",
    "           X_{n}\n",
    "         \\end{pmatrix}\n",
    "  \\end{align} $$\n",
    "\n",
    "the weights must sum to 1 : $\\sum_{i = 1}^n w_i = 1$\n",
    "\n",
    "\n",
    "Portfolio's expected return = $\\mu_p = w^T \\mu$ where $   \\begin{align}\n",
    "    \\mu &= \\begin{pmatrix}\n",
    "           \\mu_{1} \\\\\n",
    "           \\mu_{2} \\\\\n",
    "           \\vdots \\\\\n",
    "           \\mu_{n}\n",
    "         \\end{pmatrix}\n",
    "  \\end{align} $\n",
    "  \n",
    "The normalization constraint on the weights : $\\sum_{i = 1}^n w_i = 1 \\Leftrightarrow w^T e = 1$ where $e^T = (1, 1, ..., 1)$\n",
    "\n",
    "The portfolio's variance is :\n",
    "$$\\sigma_{P}^2 = w^T \\Sigma  w$$ where $\\Sigma$ is the covariance matrix."
   ]
  },
  {
   "cell_type": "markdown",
   "id": "080e1ca7",
   "metadata": {},
   "source": [
    "### Formulas\n",
    "\n",
    "#### In absence of risk-free asset\n",
    "$$w(\\gamma) = \\frac{1}{\\gamma} \\Sigma^{-1} (\\mu - \\lambda(\\gamma)e)$$\n",
    "where $\\lambda(\\gamma) = \\frac{e^T\\Sigma^{-1}\\mu - \\gamma}{e^T \\Sigma^{-1}e}$\n",
    "\n",
    "#### In presence of a risk-free asset\n",
    "$$w(\\gamma) = \\frac{1}{\\gamma} \\Sigma^{-1} (\\mu - re)$$\n",
    "\n",
    "$\\mu_p{\\gamma} = w^T \\mu + (1- w^T e)r$"
   ]
  },
  {
   "cell_type": "markdown",
   "id": "6c2066a2",
   "metadata": {},
   "source": [
    "# Exerice\n",
    "\n",
    "## 1 - Calculate efficient portfolio for a single risk aversion parameter\n",
    "\n",
    "You have to create a function which take the following argument :\n",
    "- Stocks : A vector contains stocks label\n",
    "- start : starting date\n",
    "- end : ending date\n",
    "- gamma : risk-aversion control parameter (single value)\n",
    "- r : free-risk rate\n",
    "\n",
    "The goal is to compute :\n",
    "\n",
    "    1 - The weight to attribute for each assets to create the efficient portfolio for both case with and without risk-free rate\n",
    "    2 - Calculate the expected return and variance of the portfolio\n",
    "\n",
    "The function should return weight (w) for both case (with and without free-risk rate) and the portfolio expected return and variance."
   ]
  }
 ],
 "metadata": {
  "kernelspec": {
   "display_name": "Python 3 (ipykernel)",
   "language": "python",
   "name": "python3"
  },
  "language_info": {
   "codemirror_mode": {
    "name": "ipython",
    "version": 3
   },
   "file_extension": ".py",
   "mimetype": "text/x-python",
   "name": "python",
   "nbconvert_exporter": "python",
   "pygments_lexer": "ipython3",
   "version": "3.9.7"
  }
 },
 "nbformat": 4,
 "nbformat_minor": 5
}
