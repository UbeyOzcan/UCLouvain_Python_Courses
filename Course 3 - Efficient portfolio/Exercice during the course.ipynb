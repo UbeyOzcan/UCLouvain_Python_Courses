{
 "cells": [
  {
   "cell_type": "code",
   "execution_count": 35,
   "id": "d7395959",
   "metadata": {},
   "outputs": [],
   "source": [
    "import pandas_datareader.data as web\n",
    "import datetime\n",
    "import pandas as pd\n",
    "import numpy as np"
   ]
  },
  {
   "cell_type": "code",
   "execution_count": 36,
   "id": "ac705e03",
   "metadata": {},
   "outputs": [],
   "source": [
    "start = datetime.datetime(2020,1,1)\n",
    "end = datetime.datetime(2020,12,31)\n",
    "stocks = ['KBC.BR', \"UCB.BR\"]\n",
    "n = len(stocks)\n",
    "r = 0.01\n",
    "def ImportData(name, start, end):\n",
    "    n = len(name)\n",
    "    ptf = pd.DataFrame()\n",
    "    for i in range(n):\n",
    "        tmp = pd.DataFrame(web.DataReader(name[i],'yahoo', start, end)[\"Close\"])\n",
    "        ptf = pd.concat([ptf, tmp], axis = 1)\n",
    "    ptf.columns = name\n",
    "    returns = np.log(ptf/ptf.shift(1))\n",
    "    returns = returns.dropna()\n",
    "    return(returns)\n",
    "\n",
    "Stocks_return = ImportData(stocks, start, end)"
   ]
  },
  {
   "cell_type": "code",
   "execution_count": 37,
   "id": "aef78ede",
   "metadata": {},
   "outputs": [],
   "source": [
    "mu = np.transpose(np.array([np.mean(Stocks_return)]))\n",
    "covariance = np.cov(Stocks_return, rowvar = False)\n",
    "inv_covariance = np.linalg.inv(covariance)\n",
    "e = np.full((n,1), 1)\n",
    "gamma = 10\n",
    "Lambda = (np.transpose(e) @ inv_covariance @ mu - gamma)/(np.transpose(e) @ inv_covariance @ e)\n",
    "w = (1/gamma) * inv_covariance @ (mu - Lambda*e)\n",
    "w_r = (1/gamma) * inv_covariance @ (mu - r*e)"
   ]
  },
  {
   "cell_type": "code",
   "execution_count": 38,
   "id": "0f2efd1c",
   "metadata": {},
   "outputs": [
    {
     "data": {
      "text/plain": [
       "array([1.])"
      ]
     },
     "execution_count": 38,
     "metadata": {},
     "output_type": "execute_result"
    }
   ],
   "source": [
    "sum(w)"
   ]
  },
  {
   "cell_type": "code",
   "execution_count": 39,
   "id": "b4e8c5b9",
   "metadata": {},
   "outputs": [
    {
     "data": {
      "text/plain": [
       "array([[-0.55190205],\n",
       "       [-1.36464562]])"
      ]
     },
     "execution_count": 39,
     "metadata": {},
     "output_type": "execute_result"
    }
   ],
   "source": [
    "w_r"
   ]
  },
  {
   "cell_type": "code",
   "execution_count": 40,
   "id": "40a0c172",
   "metadata": {},
   "outputs": [
    {
     "data": {
      "text/plain": [
       "array([1.])"
      ]
     },
     "execution_count": 40,
     "metadata": {},
     "output_type": "execute_result"
    }
   ],
   "source": [
    "1 - sum(w_r) + sum(w_r)"
   ]
  },
  {
   "cell_type": "code",
   "execution_count": 44,
   "id": "261f8c20",
   "metadata": {},
   "outputs": [
    {
     "name": "stdout",
     "output_type": "stream",
     "text": [
      "Portfolio expected return =  [[0.00048392]]\n"
     ]
    }
   ],
   "source": [
    "print(\"Portfolio expected return = \", np.transpose(w) @ mu)"
   ]
  },
  {
   "cell_type": "code",
   "execution_count": 45,
   "id": "8bf1ab08",
   "metadata": {},
   "outputs": [
    {
     "name": "stdout",
     "output_type": "stream",
     "text": [
      "Portfolio variance =  [[0.00051776]]\n"
     ]
    }
   ],
   "source": [
    "print(\"Portfolio variance = \", np.transpose(w) @ covariance @ w)"
   ]
  },
  {
   "cell_type": "code",
   "execution_count": 47,
   "id": "8e19d08e",
   "metadata": {},
   "outputs": [
    {
     "name": "stdout",
     "output_type": "stream",
     "text": [
      "Portfolio expected return with free risk asset =  [[0.02864498]]\n"
     ]
    }
   ],
   "source": [
    "print(\"Portfolio expected return with free risk asset = \", np.transpose(w_r) @ mu + (1- np.transpose(w_r) @ e) * r)"
   ]
  },
  {
   "cell_type": "code",
   "execution_count": 48,
   "id": "91a13ad8",
   "metadata": {},
   "outputs": [
    {
     "name": "stdout",
     "output_type": "stream",
     "text": [
      "Portfolio variance with free risk asset =  [[0.0018645]]\n"
     ]
    }
   ],
   "source": [
    "print(\"Portfolio variance with free risk asset = \", np.transpose(w_r) @ covariance @ w_r)"
   ]
  }
 ],
 "metadata": {
  "kernelspec": {
   "display_name": "Python 3",
   "language": "python",
   "name": "python3"
  },
  "language_info": {
   "codemirror_mode": {
    "name": "ipython",
    "version": 3
   },
   "file_extension": ".py",
   "mimetype": "text/x-python",
   "name": "python",
   "nbconvert_exporter": "python",
   "pygments_lexer": "ipython3",
   "version": "3.8.8"
  }
 },
 "nbformat": 4,
 "nbformat_minor": 5
}
