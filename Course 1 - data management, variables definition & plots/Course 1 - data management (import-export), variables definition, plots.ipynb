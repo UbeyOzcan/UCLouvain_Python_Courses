{
 "cells": [
  {
   "attachments": {
    "UCLouvain_Logo_Pos_CMJN.png": {
     "image/png": "[encoded data removed]"
    }
   },
   "cell_type": "markdown",
   "id": "18ac759d",
   "metadata": {},
   "source": [
    "# Introduction to Python for quantitative finance.\n",
    "\n",
    "\n",
    "![UCLouvain_Logo_Pos_CMJN.png](attachment:UCLouvain_Logo_Pos_CMJN.png)\n",
    "\n",
    "\n",
    "\n",
    "*Author* : Ubeydullah Ozcan, Risk Modeling and Pricing Actuary, Allianz Benelux (ozcanubey@outlook.com)\n"
   ]
  },
  {
   "attachments": {},
   "cell_type": "markdown",
   "id": "eee5d15a",
   "metadata": {},
   "source": [
    "## Course 1 : Variables, loops, functions, import data and plots\n",
    "In this first course, we are going to discuss about some basics but crucial concept as variables, loops and functions. This course aims to give you the basics of Python programming in order to give you some keys to develop yourself in the future.\n",
    "\n",
    "A **variable** is reserved memory location to store values. In other words, variable is just a space where you put whatever you want. In Python, a variable can store numbers, list, tuple, strings, dictionnary, dataframe, etc ..\n",
    "\n",
    "A **loop** in a computer program is an instruction that repeats until a specified condition is reached. In this introduction, we will discuss in more details about \"for\" loop and \"while\" loop. Keep in mind that loops are among the most basic and powerful of programming concepts. \n",
    "\n",
    "Python allows you to import/export in different format like excel, csv, txt, json, sql, etc.. In this course, we will focus on how to import data from a web browser (e.g : yahoo finance) and also how to import data from an external files.\n",
    "\n",
    "A quick introduction to make some plot will be given but later in the course we will give more details about creating some visuals.\n",
    "\n",
    "Finally, a **function** is a group of related statements that performs a specific task. Functions help break our program into smaller and modular chunks. As our program grows larger and larger, functions make it more organized and manageable. Furthermore, it avoids repetition and makes the code reusable. **REMARK** : in Python, you have some functionaly that has been already put in function which is different from some function that we will implement by our own. For example : *mean()* function exist in python and you will implement it again. But if you want to do a specific tasks (data analysis for a stock return for a certain period) and you want to **automate** this task, then you will create your own function !\n",
    "\n",
    "### 1. Variables\n",
    "Let's start with the most basic concept which is variable. Here, some method to create variables :     "
   ]
  },
  {
   "cell_type": "code",
   "execution_count": 2,
   "id": "d1447169",
   "metadata": {},
   "outputs": [
    {
     "name": "stdout",
     "output_type": "stream",
     "text": [
      "123 Hello World! 12.2 True False\n"
     ]
    }
   ],
   "source": [
    "a = 123 # integer\n",
    "b = \"Hello World!\" # String\n",
    "c = 12.2 # float\n",
    "d = True # boolean\n",
    "e = a == b # boolean\n",
    "print(a, b, c, d, e) # statement to print out result"
   ]
  },
  {
   "cell_type": "markdown",
   "id": "3bcc31a0",
   "metadata": {},
   "source": [
    "What we can do with all of this ? For example, we can do calculation, we can check condition or look to an element of a string : "
   ]
  },
  {
   "cell_type": "code",
   "execution_count": 30,
   "id": "c6eab691",
   "metadata": {},
   "outputs": [
    {
     "name": "stdout",
     "output_type": "stream",
     "text": [
      "135.2 H llo\n"
     ]
    }
   ],
   "source": [
    "print(a + c, b[0], b[2:5])"
   ]
  },
  {
   "cell_type": "markdown",
   "id": "65f08e3c",
   "metadata": {},
   "source": [
    "Here, an other important type of variable which is **List** :"
   ]
  },
  {
   "cell_type": "code",
   "execution_count": 33,
   "id": "948818c1",
   "metadata": {},
   "outputs": [
    {
     "name": "stdout",
     "output_type": "stream",
     "text": [
      "['abcd', 786, 2.23, 'john', 70.2]\n",
      "abcd\n",
      "[786, 2.23]\n",
      "[2.23, 'john', 70.2]\n",
      "[123, 'john', 123, 'john']\n",
      "['abcd', 786, 2.23, 'john', 70.2, 123, 'john']\n"
     ]
    }
   ],
   "source": [
    "list = [ 'abcd', 786 , 2.23, 'john', 70.2 ]\n",
    "tinylist = [123, 'john']\n",
    "\n",
    "print(list)          # Prints complete list\n",
    "print(list[0])       # Prints first element of the list\n",
    "print(list[1:3])     # Prints elements starting from 2nd till 3rd \n",
    "print(list[2:])      # Prints elements starting from 3rd element\n",
    "print(tinylist * 2)  # Prints list two times\n",
    "print(list + tinylist) # Prints concatenated lists"
   ]
  },
  {
   "cell_type": "code",
   "execution_count": 35,
   "id": "9d6bb138",
   "metadata": {
    "scrolled": true
   },
   "outputs": [
    {
     "name": "stdout",
     "output_type": "stream",
     "text": [
      "This is one\n",
      "This is two\n",
      "{'name': 'john', 'code': 6734, 'dept': 'sales'}\n",
      "dict_keys(['name', 'code', 'dept'])\n",
      "dict_values(['john', 6734, 'sales'])\n"
     ]
    }
   ],
   "source": [
    "dict = {}\n",
    "dict['one'] = \"This is one\"\n",
    "dict[2]     = \"This is two\"\n",
    "\n",
    "tinydict = {'name': 'john','code':6734, 'dept': 'sales'}\n",
    "\n",
    "\n",
    "print(dict['one'])       # Prints value for 'one' key\n",
    "print(dict[2])           # Prints value for 2 key\n",
    "print(tinydict)          # Prints complete dictionary\n",
    "print(tinydict.keys())   # Prints all the keys\n",
    "print(tinydict.values()) # Prints all the values"
   ]
  },
  {
   "cell_type": "markdown",
   "id": "26e4ccce",
   "metadata": {},
   "source": [
    "This a course of programming in quantitative finance, now we know variable, Let's do some math !! \n",
    "\n",
    "Let's take some value and see how arithmetic works in Python : "
   ]
  },
  {
   "cell_type": "code",
   "execution_count": 3,
   "id": "22a4e564",
   "metadata": {
    "scrolled": true
   },
   "outputs": [
    {
     "name": "stdout",
     "output_type": "stream",
     "text": [
      "8.3\n",
      "-2.3\n",
      "15.899999999999999\n",
      "0.5660377358490566\n",
      "148.87699999999998\n"
     ]
    }
   ],
   "source": [
    "x = 3\n",
    "y = 5.3\n",
    "print(x + y)\n",
    "print(x - y)\n",
    "print(x * y)\n",
    "print(x / y)\n",
    "print(y ** x)"
   ]
  },
  {
   "cell_type": "code",
   "execution_count": 39,
   "id": "40f833eb",
   "metadata": {},
   "outputs": [
    {
     "name": "stdout",
     "output_type": "stream",
     "text": [
      "True\n",
      "False\n",
      "False\n",
      "True\n"
     ]
    }
   ],
   "source": [
    "print(x <= y)\n",
    "print(x == y)\n",
    "print(x >= y)\n",
    "print(x != y)"
   ]
  },
  {
   "cell_type": "markdown",
   "id": "d493c167",
   "metadata": {},
   "source": [
    "An other important concept in programming in the logic. The most important logic functions in mathematic are **AND**, **OR** and **XOR**"
   ]
  },
  {
   "cell_type": "code",
   "execution_count": 41,
   "id": "fd4334a7",
   "metadata": {},
   "outputs": [
    {
     "name": "stdout",
     "output_type": "stream",
     "text": [
      "False\n",
      "True\n",
      "True\n"
     ]
    }
   ],
   "source": [
    "print(False & True)\n",
    "print(False | True)\n",
    "print(False ^ True)"
   ]
  },
  {
   "cell_type": "markdown",
   "id": "8b11315c",
   "metadata": {},
   "source": [
    "### 2. Loops (If/else, For, While)"
   ]
  },
  {
   "cell_type": "markdown",
   "id": "547dbb21",
   "metadata": {},
   "source": [
    "Let's now introduce one of the most important concept in any programming language, the If/Else statement and the For and While loops ! These tools are crucial to become, one day, an active programmer ! Here a flow-chart to visualize how a simple if/else statement works. "
   ]
  },
  {
   "attachments": {
    "If.PNG": {
     "image/png": "[encoded data removed]"
    }
   },
   "cell_type": "markdown",
   "id": "aa7b04ac",
   "metadata": {},
   "source": [
    "![If.PNG](attachment:If.PNG)"
   ]
  },
  {
   "cell_type": "markdown",
   "id": "fa211a35",
   "metadata": {},
   "source": [
    "And here some example of how to use If/Else in Python :"
   ]
  },
  {
   "cell_type": "code",
   "execution_count": 4,
   "id": "a106906c",
   "metadata": {},
   "outputs": [
    {
     "name": "stdout",
     "output_type": "stream",
     "text": [
      "99 is an odd number\n"
     ]
    }
   ],
   "source": [
    "x = 99\n",
    "\n",
    "if x % 2 == 0:\n",
    "    print(x, \"is an even number\")\n",
    "else:\n",
    "    print(x, \"is an odd number\")"
   ]
  },
  {
   "cell_type": "markdown",
   "id": "443b1c8b",
   "metadata": {},
   "source": [
    "\"%\" is the modulus operator. So, as we know, if the modulus of a number divided by 2 is null, that means that this number is even, otherwhise, the number of an odd number. With this few python code, we can check is a number is even or odd.\n",
    "\n",
    "And what about if we want to construct a more complex condition statement ? You have to use \"Elif\" Statement which is \"Else If\" to add more conditions. Here an example."
   ]
  },
  {
   "cell_type": "code",
   "execution_count": 54,
   "id": "cb2b8b7a",
   "metadata": {},
   "outputs": [
    {
     "name": "stdout",
     "output_type": "stream",
     "text": [
      "-2 negatif\n"
     ]
    }
   ],
   "source": [
    "x = -2\n",
    "\n",
    "if x > 0:\n",
    "    print(x, 'Positif')\n",
    "elif x == 0:\n",
    "    print(x, \"null\")\n",
    "else:\n",
    "    print(x, \"negatif\")"
   ]
  },
  {
   "cell_type": "markdown",
   "id": "5ac08e92",
   "metadata": {},
   "source": [
    "The piece of code above check if a number is positif, negatif or null. \n",
    "\n",
    "Not enough ? Let's try more complex with some logic functions. The next loop will check if 2 numbers are both positif or both null or if one of them is negatif or null."
   ]
  },
  {
   "cell_type": "code",
   "execution_count": 99,
   "id": "283a0d1a",
   "metadata": {},
   "outputs": [
    {
     "name": "stdout",
     "output_type": "stream",
     "text": [
      "2 3 Positif\n"
     ]
    }
   ],
   "source": [
    "x = 2\n",
    "y = 3\n",
    "\n",
    "if (x > 0) & (y > 0):\n",
    "    print(x, y, 'Positif')\n",
    "elif (x == 0) & (y == 0):\n",
    "    print(x, y,  \"null\")\n",
    "else:\n",
    "    print(\"one of them is negatif or null\")"
   ]
  },
  {
   "cell_type": "markdown",
   "id": "1198bc4d",
   "metadata": {},
   "source": [
    "As you can see, sky is the limit !"
   ]
  },
  {
   "cell_type": "markdown",
   "id": "18889360",
   "metadata": {},
   "source": [
    "Let's now introduction For and While loops. These tools are useful is we want to implement an iterative operation. \n",
    "\n",
    "**For** loop is useful when the goal is to do some operation over all element of an object.\n",
    "\n",
    "**While** loop is useful when the goal is to do some operation until a condition is reach.\n",
    "\n",
    "An example is always better of theory !"
   ]
  },
  {
   "cell_type": "code",
   "execution_count": 83,
   "id": "d21ff102",
   "metadata": {},
   "outputs": [
    {
     "name": "stdout",
     "output_type": "stream",
     "text": [
      "Hello\n",
      "World\n",
      "10.2\n"
     ]
    }
   ],
   "source": [
    "Loop_1 = [\"Hello\", \"World\", 10.2]\n",
    "n = len(Loop_1) \n",
    "for i in range(n):\n",
    "    print(Loop_1[i])"
   ]
  },
  {
   "cell_type": "markdown",
   "id": "7b410f8f",
   "metadata": {},
   "source": [
    "The function *range(3)* create a sequence of 3 number : 0, 1 and 2.\n",
    "\n",
    "Let's now image we want to print all even number between 1 and 20. Here how to do:"
   ]
  },
  {
   "cell_type": "code",
   "execution_count": 15,
   "id": "fc43d6cb",
   "metadata": {},
   "outputs": [
    {
     "name": "stdout",
     "output_type": "stream",
     "text": [
      "2\n",
      "4\n",
      "6\n",
      "8\n",
      "10\n",
      "12\n",
      "14\n",
      "16\n",
      "18\n",
      "20\n"
     ]
    }
   ],
   "source": [
    "Loop_2 = range(1,20)\n",
    "n = len(Loop_2)\n",
    "for i in range(1,n):\n",
    "    p = Loop_2[i]\n",
    "    if p % 2 == 0:\n",
    "        print(p)\n",
    "    else:\n",
    "        i = i + 1"
   ]
  },
  {
   "cell_type": "markdown",
   "id": "895f6ba2",
   "metadata": {},
   "source": [
    "Now let's see how While loop work. To recall, while loop do some operation until a condition has been reached."
   ]
  },
  {
   "cell_type": "code",
   "execution_count": 89,
   "id": "c24691ed",
   "metadata": {},
   "outputs": [
    {
     "name": "stdout",
     "output_type": "stream",
     "text": [
      "0\n",
      "1\n",
      "2\n",
      "3\n",
      "4\n",
      "5\n",
      "6\n",
      "7\n",
      "8\n",
      "9\n"
     ]
    }
   ],
   "source": [
    "x = 0\n",
    "\n",
    "while x < 10:\n",
    "    print(x)\n",
    "    x += 1"
   ]
  },
  {
   "cell_type": "markdown",
   "id": "8b3b494f",
   "metadata": {},
   "source": [
    "$x +=1$ is equivalent to $x = x + 1$ in Python. With while loops, the most important thing to make attention is the infinity loops"
   ]
  },
  {
   "cell_type": "markdown",
   "id": "c6248941",
   "metadata": {},
   "source": [
    "### 3. Functions\n",
    "\n",
    "This section of this introduction will focus on creating function. The code that we created before are just some script. That is not the most efficient way to work if we want to automate some calcul or reproduce some calcul. This is why we need to define functions. \n",
    "\n",
    "Function is a python object which gives you the flexibity to define your inputs and outputs. Let's create a function that will check if the result of a sum of a 2 numbers is odd or even. Here is the structure of the code"
   ]
  },
  {
   "cell_type": "code",
   "execution_count": 2,
   "id": "07fac6d3",
   "metadata": {},
   "outputs": [],
   "source": [
    "def parity(x,y):\n",
    "    z = x + y\n",
    "    if(z % 2 == 0):\n",
    "        print(\"Sum of \", x, \" and \", y,\" is an even number\")\n",
    "    else:\n",
    "        print(\"Sum of \", x, \" and \", y,\" is an odd number\")\n",
    "    \n",
    "    return z"
   ]
  },
  {
   "cell_type": "code",
   "execution_count": 8,
   "id": "dd3febb8",
   "metadata": {},
   "outputs": [
    {
     "name": "stdout",
     "output_type": "stream",
     "text": [
      "Sum of  27  and  39  is an even number\n"
     ]
    },
    {
     "data": {
      "text/plain": [
       "66"
      ]
     },
     "execution_count": 8,
     "metadata": {},
     "output_type": "execute_result"
    }
   ],
   "source": [
    "parity(27, 39)"
   ]
  },
  {
   "cell_type": "markdown",
   "id": "a4f8007d",
   "metadata": {},
   "source": [
    "### 4. Import data\n",
    "\n",
    "A very important feature in Python is the capability to easily import different types of data and manipulate them. In the same time, let's introduce the Python package Pandas which is usefull to import and manipulate dataset. To install a Python package, you can pip it or an easier way in to install it using anaconda package installer.\n",
    "\n",
    "Once it's install, here how to load the package in your environment."
   ]
  },
  {
   "cell_type": "code",
   "execution_count": 1,
   "id": "92892e86",
   "metadata": {},
   "outputs": [],
   "source": [
    "import pandas as pd\n",
    "import numpy as np"
   ]
  },
  {
   "cell_type": "code",
   "execution_count": 2,
   "id": "c558bc32",
   "metadata": {},
   "outputs": [
    {
     "data": {
      "text/html": [
       "<div>\n",
       "<style scoped>\n",
       "    .dataframe tbody tr th:only-of-type {\n",
       "        vertical-align: middle;\n",
       "    }\n",
       "\n",
       "    .dataframe tbody tr th {\n",
       "        vertical-align: top;\n",
       "    }\n",
       "\n",
       "    .dataframe thead th {\n",
       "        text-align: right;\n",
       "    }\n",
       "</style>\n",
       "<table border=\"1\" class=\"dataframe\">\n",
       "  <thead>\n",
       "    <tr style=\"text-align: right;\">\n",
       "      <th></th>\n",
       "      <th>id_policy</th>\n",
       "      <th>year</th>\n",
       "      <th>pol_no_claims_discount</th>\n",
       "      <th>pol_coverage</th>\n",
       "      <th>pol_duration</th>\n",
       "      <th>pol_sit_duration</th>\n",
       "      <th>pol_pay_freq</th>\n",
       "      <th>pol_payd</th>\n",
       "      <th>pol_usage</th>\n",
       "      <th>drv_sex1</th>\n",
       "      <th>...</th>\n",
       "      <th>vh_make_model</th>\n",
       "      <th>vh_age</th>\n",
       "      <th>vh_fuel</th>\n",
       "      <th>vh_type</th>\n",
       "      <th>vh_speed</th>\n",
       "      <th>vh_value</th>\n",
       "      <th>vh_weight</th>\n",
       "      <th>population</th>\n",
       "      <th>town_surface_area</th>\n",
       "      <th>claim_amount</th>\n",
       "    </tr>\n",
       "  </thead>\n",
       "  <tbody>\n",
       "    <tr>\n",
       "      <th>0</th>\n",
       "      <td>PL000000</td>\n",
       "      <td>1.0</td>\n",
       "      <td>0.332</td>\n",
       "      <td>Med2</td>\n",
       "      <td>5</td>\n",
       "      <td>1</td>\n",
       "      <td>Monthly</td>\n",
       "      <td>No</td>\n",
       "      <td>WorkPrivate</td>\n",
       "      <td>M</td>\n",
       "      <td>...</td>\n",
       "      <td>aparvvfowrjncdhp</td>\n",
       "      <td>8.0</td>\n",
       "      <td>Gasoline</td>\n",
       "      <td>Tourism</td>\n",
       "      <td>174.0</td>\n",
       "      <td>11040.0</td>\n",
       "      <td>1143.0</td>\n",
       "      <td>1270.0</td>\n",
       "      <td>33.1</td>\n",
       "      <td>0.0</td>\n",
       "    </tr>\n",
       "    <tr>\n",
       "      <th>1</th>\n",
       "      <td>PL042495</td>\n",
       "      <td>1.0</td>\n",
       "      <td>0.000</td>\n",
       "      <td>Med2</td>\n",
       "      <td>6</td>\n",
       "      <td>1</td>\n",
       "      <td>Monthly</td>\n",
       "      <td>No</td>\n",
       "      <td>WorkPrivate</td>\n",
       "      <td>M</td>\n",
       "      <td>...</td>\n",
       "      <td>aparvvfowrjncdhp</td>\n",
       "      <td>10.0</td>\n",
       "      <td>Diesel</td>\n",
       "      <td>Tourism</td>\n",
       "      <td>174.0</td>\n",
       "      <td>11040.0</td>\n",
       "      <td>1143.0</td>\n",
       "      <td>1290.0</td>\n",
       "      <td>51.3</td>\n",
       "      <td>0.0</td>\n",
       "    </tr>\n",
       "    <tr>\n",
       "      <th>2</th>\n",
       "      <td>PL042496</td>\n",
       "      <td>1.0</td>\n",
       "      <td>0.196</td>\n",
       "      <td>Med1</td>\n",
       "      <td>2</td>\n",
       "      <td>1</td>\n",
       "      <td>Yearly</td>\n",
       "      <td>Yes</td>\n",
       "      <td>Retired</td>\n",
       "      <td>M</td>\n",
       "      <td>...</td>\n",
       "      <td>iwhqpdfuhrsxyqxe</td>\n",
       "      <td>8.0</td>\n",
       "      <td>Diesel</td>\n",
       "      <td>Commercial</td>\n",
       "      <td>150.0</td>\n",
       "      <td>14159.0</td>\n",
       "      <td>1193.0</td>\n",
       "      <td>1020.0</td>\n",
       "      <td>262.8</td>\n",
       "      <td>0.0</td>\n",
       "    </tr>\n",
       "    <tr>\n",
       "      <th>3</th>\n",
       "      <td>PL042497</td>\n",
       "      <td>1.0</td>\n",
       "      <td>0.000</td>\n",
       "      <td>Med2</td>\n",
       "      <td>8</td>\n",
       "      <td>5</td>\n",
       "      <td>Yearly</td>\n",
       "      <td>No</td>\n",
       "      <td>WorkPrivate</td>\n",
       "      <td>F</td>\n",
       "      <td>...</td>\n",
       "      <td>kvcddisqpkysmvvo</td>\n",
       "      <td>4.0</td>\n",
       "      <td>Gasoline</td>\n",
       "      <td>Tourism</td>\n",
       "      <td>149.0</td>\n",
       "      <td>17233.0</td>\n",
       "      <td>1012.0</td>\n",
       "      <td>180.0</td>\n",
       "      <td>219.7</td>\n",
       "      <td>0.0</td>\n",
       "    </tr>\n",
       "    <tr>\n",
       "      <th>4</th>\n",
       "      <td>PL042498</td>\n",
       "      <td>1.0</td>\n",
       "      <td>0.000</td>\n",
       "      <td>Med1</td>\n",
       "      <td>2</td>\n",
       "      <td>2</td>\n",
       "      <td>Yearly</td>\n",
       "      <td>No</td>\n",
       "      <td>Retired</td>\n",
       "      <td>F</td>\n",
       "      <td>...</td>\n",
       "      <td>tdgkjlphosocwbgu</td>\n",
       "      <td>13.0</td>\n",
       "      <td>Gasoline</td>\n",
       "      <td>Tourism</td>\n",
       "      <td>200.0</td>\n",
       "      <td>19422.0</td>\n",
       "      <td>1315.0</td>\n",
       "      <td>30.0</td>\n",
       "      <td>70.3</td>\n",
       "      <td>0.0</td>\n",
       "    </tr>\n",
       "  </tbody>\n",
       "</table>\n",
       "<p>5 rows × 26 columns</p>\n",
       "</div>"
      ],
      "text/plain": [
       "  id_policy  year  pol_no_claims_discount pol_coverage  pol_duration  \\\n",
       "0  PL000000   1.0                   0.332         Med2             5   \n",
       "1  PL042495   1.0                   0.000         Med2             6   \n",
       "2  PL042496   1.0                   0.196         Med1             2   \n",
       "3  PL042497   1.0                   0.000         Med2             8   \n",
       "4  PL042498   1.0                   0.000         Med1             2   \n",
       "\n",
       "   pol_sit_duration pol_pay_freq pol_payd    pol_usage drv_sex1  ...  \\\n",
       "0                 1      Monthly       No  WorkPrivate        M  ...   \n",
       "1                 1      Monthly       No  WorkPrivate        M  ...   \n",
       "2                 1       Yearly      Yes      Retired        M  ...   \n",
       "3                 5       Yearly       No  WorkPrivate        F  ...   \n",
       "4                 2       Yearly       No      Retired        F  ...   \n",
       "\n",
       "      vh_make_model  vh_age   vh_fuel     vh_type  vh_speed  vh_value  \\\n",
       "0  aparvvfowrjncdhp     8.0  Gasoline     Tourism     174.0   11040.0   \n",
       "1  aparvvfowrjncdhp    10.0    Diesel     Tourism     174.0   11040.0   \n",
       "2  iwhqpdfuhrsxyqxe     8.0    Diesel  Commercial     150.0   14159.0   \n",
       "3  kvcddisqpkysmvvo     4.0  Gasoline     Tourism     149.0   17233.0   \n",
       "4  tdgkjlphosocwbgu    13.0  Gasoline     Tourism     200.0   19422.0   \n",
       "\n",
       "  vh_weight  population town_surface_area claim_amount  \n",
       "0    1143.0      1270.0              33.1          0.0  \n",
       "1    1143.0      1290.0              51.3          0.0  \n",
       "2    1193.0      1020.0             262.8          0.0  \n",
       "3    1012.0       180.0             219.7          0.0  \n",
       "4    1315.0        30.0              70.3          0.0  \n",
       "\n",
       "[5 rows x 26 columns]"
      ]
     },
     "execution_count": 2,
     "metadata": {},
     "output_type": "execute_result"
    }
   ],
   "source": [
    "df = pd.read_csv(\"Data/Course 1/training.csv\")\n",
    "df.head()"
   ]
  },
  {
   "cell_type": "markdown",
   "id": "a3c4698a",
   "metadata": {},
   "source": [
    "Using the pandas package, the data has been automatically stored in a dataframe which a type of object in Python widely used to store and manipulate data. \n",
    "Let's now try to manipulate this dataframe."
   ]
  },
  {
   "cell_type": "code",
   "execution_count": 13,
   "id": "cfcf1deb",
   "metadata": {},
   "outputs": [
    {
     "data": {
      "text/plain": [
       "0         PL000000\n",
       "1         PL042495\n",
       "2         PL042496\n",
       "3         PL042497\n",
       "4         PL042498\n",
       "            ...   \n",
       "228211    PL008818\n",
       "228212    PL055033\n",
       "228213    PL061619\n",
       "228214    PL060903\n",
       "228215    PL052240\n",
       "Name: id_policy, Length: 228216, dtype: object"
      ]
     },
     "execution_count": 13,
     "metadata": {},
     "output_type": "execute_result"
    }
   ],
   "source": [
    "df[\"id_policy\"]"
   ]
  },
  {
   "cell_type": "code",
   "execution_count": 14,
   "id": "f55cb3b0",
   "metadata": {},
   "outputs": [
    {
     "data": {
      "text/html": [
       "<div>\n",
       "<style scoped>\n",
       "    .dataframe tbody tr th:only-of-type {\n",
       "        vertical-align: middle;\n",
       "    }\n",
       "\n",
       "    .dataframe tbody tr th {\n",
       "        vertical-align: top;\n",
       "    }\n",
       "\n",
       "    .dataframe thead th {\n",
       "        text-align: right;\n",
       "    }\n",
       "</style>\n",
       "<table border=\"1\" class=\"dataframe\">\n",
       "  <thead>\n",
       "    <tr style=\"text-align: right;\">\n",
       "      <th></th>\n",
       "      <th>id_policy</th>\n",
       "      <th>year</th>\n",
       "    </tr>\n",
       "  </thead>\n",
       "  <tbody>\n",
       "    <tr>\n",
       "      <th>0</th>\n",
       "      <td>PL000000</td>\n",
       "      <td>1.0</td>\n",
       "    </tr>\n",
       "    <tr>\n",
       "      <th>1</th>\n",
       "      <td>PL042495</td>\n",
       "      <td>1.0</td>\n",
       "    </tr>\n",
       "    <tr>\n",
       "      <th>2</th>\n",
       "      <td>PL042496</td>\n",
       "      <td>1.0</td>\n",
       "    </tr>\n",
       "    <tr>\n",
       "      <th>3</th>\n",
       "      <td>PL042497</td>\n",
       "      <td>1.0</td>\n",
       "    </tr>\n",
       "    <tr>\n",
       "      <th>4</th>\n",
       "      <td>PL042498</td>\n",
       "      <td>1.0</td>\n",
       "    </tr>\n",
       "    <tr>\n",
       "      <th>...</th>\n",
       "      <td>...</td>\n",
       "      <td>...</td>\n",
       "    </tr>\n",
       "    <tr>\n",
       "      <th>228211</th>\n",
       "      <td>PL008818</td>\n",
       "      <td>4.0</td>\n",
       "    </tr>\n",
       "    <tr>\n",
       "      <th>228212</th>\n",
       "      <td>PL055033</td>\n",
       "      <td>4.0</td>\n",
       "    </tr>\n",
       "    <tr>\n",
       "      <th>228213</th>\n",
       "      <td>PL061619</td>\n",
       "      <td>4.0</td>\n",
       "    </tr>\n",
       "    <tr>\n",
       "      <th>228214</th>\n",
       "      <td>PL060903</td>\n",
       "      <td>4.0</td>\n",
       "    </tr>\n",
       "    <tr>\n",
       "      <th>228215</th>\n",
       "      <td>PL052240</td>\n",
       "      <td>4.0</td>\n",
       "    </tr>\n",
       "  </tbody>\n",
       "</table>\n",
       "<p>228216 rows × 2 columns</p>\n",
       "</div>"
      ],
      "text/plain": [
       "       id_policy  year\n",
       "0       PL000000   1.0\n",
       "1       PL042495   1.0\n",
       "2       PL042496   1.0\n",
       "3       PL042497   1.0\n",
       "4       PL042498   1.0\n",
       "...          ...   ...\n",
       "228211  PL008818   4.0\n",
       "228212  PL055033   4.0\n",
       "228213  PL061619   4.0\n",
       "228214  PL060903   4.0\n",
       "228215  PL052240   4.0\n",
       "\n",
       "[228216 rows x 2 columns]"
      ]
     },
     "execution_count": 14,
     "metadata": {},
     "output_type": "execute_result"
    }
   ],
   "source": [
    "df[[\"id_policy\", \"year\"]]"
   ]
  },
  {
   "cell_type": "code",
   "execution_count": 15,
   "id": "b40d98e2",
   "metadata": {},
   "outputs": [
    {
     "data": {
      "text/html": [
       "<div>\n",
       "<style scoped>\n",
       "    .dataframe tbody tr th:only-of-type {\n",
       "        vertical-align: middle;\n",
       "    }\n",
       "\n",
       "    .dataframe tbody tr th {\n",
       "        vertical-align: top;\n",
       "    }\n",
       "\n",
       "    .dataframe thead th {\n",
       "        text-align: right;\n",
       "    }\n",
       "</style>\n",
       "<table border=\"1\" class=\"dataframe\">\n",
       "  <thead>\n",
       "    <tr style=\"text-align: right;\">\n",
       "      <th></th>\n",
       "      <th>id_policy</th>\n",
       "      <th>year</th>\n",
       "      <th>pol_no_claims_discount</th>\n",
       "      <th>pol_coverage</th>\n",
       "      <th>pol_duration</th>\n",
       "      <th>pol_sit_duration</th>\n",
       "      <th>pol_pay_freq</th>\n",
       "      <th>pol_payd</th>\n",
       "      <th>pol_usage</th>\n",
       "      <th>drv_sex1</th>\n",
       "      <th>...</th>\n",
       "      <th>vh_make_model</th>\n",
       "      <th>vh_age</th>\n",
       "      <th>vh_fuel</th>\n",
       "      <th>vh_type</th>\n",
       "      <th>vh_speed</th>\n",
       "      <th>vh_value</th>\n",
       "      <th>vh_weight</th>\n",
       "      <th>population</th>\n",
       "      <th>town_surface_area</th>\n",
       "      <th>claim_amount</th>\n",
       "    </tr>\n",
       "  </thead>\n",
       "  <tbody>\n",
       "    <tr>\n",
       "      <th>171162</th>\n",
       "      <td>PL005608</td>\n",
       "      <td>4.0</td>\n",
       "      <td>0.000</td>\n",
       "      <td>Med2</td>\n",
       "      <td>7</td>\n",
       "      <td>6</td>\n",
       "      <td>Biannual</td>\n",
       "      <td>No</td>\n",
       "      <td>WorkPrivate</td>\n",
       "      <td>M</td>\n",
       "      <td>...</td>\n",
       "      <td>gapclpflkdsbeorm</td>\n",
       "      <td>16.0</td>\n",
       "      <td>Diesel</td>\n",
       "      <td>Commercial</td>\n",
       "      <td>150.0</td>\n",
       "      <td>25662.0</td>\n",
       "      <td>1780.0</td>\n",
       "      <td>330.0</td>\n",
       "      <td>38.7</td>\n",
       "      <td>0.0</td>\n",
       "    </tr>\n",
       "    <tr>\n",
       "      <th>171163</th>\n",
       "      <td>PL082834</td>\n",
       "      <td>4.0</td>\n",
       "      <td>0.000</td>\n",
       "      <td>Max</td>\n",
       "      <td>29</td>\n",
       "      <td>13</td>\n",
       "      <td>Yearly</td>\n",
       "      <td>No</td>\n",
       "      <td>Retired</td>\n",
       "      <td>M</td>\n",
       "      <td>...</td>\n",
       "      <td>aparvvfowrjncdhp</td>\n",
       "      <td>16.0</td>\n",
       "      <td>Diesel</td>\n",
       "      <td>Tourism</td>\n",
       "      <td>174.0</td>\n",
       "      <td>11040.0</td>\n",
       "      <td>1143.0</td>\n",
       "      <td>80.0</td>\n",
       "      <td>111.7</td>\n",
       "      <td>0.0</td>\n",
       "    </tr>\n",
       "    <tr>\n",
       "      <th>171164</th>\n",
       "      <td>PL095626</td>\n",
       "      <td>4.0</td>\n",
       "      <td>0.196</td>\n",
       "      <td>Max</td>\n",
       "      <td>12</td>\n",
       "      <td>7</td>\n",
       "      <td>Yearly</td>\n",
       "      <td>No</td>\n",
       "      <td>WorkPrivate</td>\n",
       "      <td>F</td>\n",
       "      <td>...</td>\n",
       "      <td>iulvirmzdntweaee</td>\n",
       "      <td>13.0</td>\n",
       "      <td>Gasoline</td>\n",
       "      <td>Tourism</td>\n",
       "      <td>164.0</td>\n",
       "      <td>14696.0</td>\n",
       "      <td>936.0</td>\n",
       "      <td>30.0</td>\n",
       "      <td>138.6</td>\n",
       "      <td>0.0</td>\n",
       "    </tr>\n",
       "    <tr>\n",
       "      <th>171165</th>\n",
       "      <td>PL085678</td>\n",
       "      <td>4.0</td>\n",
       "      <td>0.000</td>\n",
       "      <td>Med2</td>\n",
       "      <td>17</td>\n",
       "      <td>8</td>\n",
       "      <td>Biannual</td>\n",
       "      <td>No</td>\n",
       "      <td>WorkPrivate</td>\n",
       "      <td>M</td>\n",
       "      <td>...</td>\n",
       "      <td>iulvirmzdntweaee</td>\n",
       "      <td>18.0</td>\n",
       "      <td>Diesel</td>\n",
       "      <td>Tourism</td>\n",
       "      <td>164.0</td>\n",
       "      <td>14696.0</td>\n",
       "      <td>936.0</td>\n",
       "      <td>1020.0</td>\n",
       "      <td>359.4</td>\n",
       "      <td>0.0</td>\n",
       "    </tr>\n",
       "    <tr>\n",
       "      <th>171166</th>\n",
       "      <td>PL067999</td>\n",
       "      <td>4.0</td>\n",
       "      <td>0.000</td>\n",
       "      <td>Max</td>\n",
       "      <td>17</td>\n",
       "      <td>4</td>\n",
       "      <td>Monthly</td>\n",
       "      <td>No</td>\n",
       "      <td>WorkPrivate</td>\n",
       "      <td>M</td>\n",
       "      <td>...</td>\n",
       "      <td>jjycmklnkdivnypu</td>\n",
       "      <td>4.0</td>\n",
       "      <td>Gasoline</td>\n",
       "      <td>Tourism</td>\n",
       "      <td>174.0</td>\n",
       "      <td>13904.0</td>\n",
       "      <td>1260.0</td>\n",
       "      <td>280.0</td>\n",
       "      <td>745.4</td>\n",
       "      <td>0.0</td>\n",
       "    </tr>\n",
       "  </tbody>\n",
       "</table>\n",
       "<p>5 rows × 26 columns</p>\n",
       "</div>"
      ],
      "text/plain": [
       "       id_policy  year  pol_no_claims_discount pol_coverage  pol_duration  \\\n",
       "171162  PL005608   4.0                   0.000         Med2             7   \n",
       "171163  PL082834   4.0                   0.000          Max            29   \n",
       "171164  PL095626   4.0                   0.196          Max            12   \n",
       "171165  PL085678   4.0                   0.000         Med2            17   \n",
       "171166  PL067999   4.0                   0.000          Max            17   \n",
       "\n",
       "        pol_sit_duration pol_pay_freq pol_payd    pol_usage drv_sex1  ...  \\\n",
       "171162                 6     Biannual       No  WorkPrivate        M  ...   \n",
       "171163                13       Yearly       No      Retired        M  ...   \n",
       "171164                 7       Yearly       No  WorkPrivate        F  ...   \n",
       "171165                 8     Biannual       No  WorkPrivate        M  ...   \n",
       "171166                 4      Monthly       No  WorkPrivate        M  ...   \n",
       "\n",
       "           vh_make_model  vh_age   vh_fuel     vh_type  vh_speed  vh_value  \\\n",
       "171162  gapclpflkdsbeorm    16.0    Diesel  Commercial     150.0   25662.0   \n",
       "171163  aparvvfowrjncdhp    16.0    Diesel     Tourism     174.0   11040.0   \n",
       "171164  iulvirmzdntweaee    13.0  Gasoline     Tourism     164.0   14696.0   \n",
       "171165  iulvirmzdntweaee    18.0    Diesel     Tourism     164.0   14696.0   \n",
       "171166  jjycmklnkdivnypu     4.0  Gasoline     Tourism     174.0   13904.0   \n",
       "\n",
       "       vh_weight  population town_surface_area claim_amount  \n",
       "171162    1780.0       330.0              38.7          0.0  \n",
       "171163    1143.0        80.0             111.7          0.0  \n",
       "171164     936.0        30.0             138.6          0.0  \n",
       "171165     936.0      1020.0             359.4          0.0  \n",
       "171166    1260.0       280.0             745.4          0.0  \n",
       "\n",
       "[5 rows x 26 columns]"
      ]
     },
     "execution_count": 15,
     "metadata": {},
     "output_type": "execute_result"
    }
   ],
   "source": [
    "df[df[\"year\"] == 4].head()"
   ]
  },
  {
   "cell_type": "code",
   "execution_count": 19,
   "id": "7aa841d8",
   "metadata": {},
   "outputs": [
    {
     "name": "stdout",
     "output_type": "stream",
     "text": [
      "      id_policy  year  pol_no_claims_discount pol_coverage  pol_duration  \\\n",
      "0      PL000000   1.0                   0.332         Med2             5   \n",
      "1      PL042495   1.0                   0.000         Med2             6   \n",
      "2      PL042496   1.0                   0.196         Med1             2   \n",
      "3      PL042497   1.0                   0.000         Med2             8   \n",
      "4      PL042498   1.0                   0.000         Med1             2   \n",
      "...         ...   ...                     ...          ...           ...   \n",
      "57043  PL000210   1.0                   0.000          Max             1   \n",
      "57044  PL004688   1.0                   0.225          Max             1   \n",
      "57045  PL014290   1.0                   0.225          Max             7   \n",
      "57047  PL003646   1.0                   0.000          Max             1   \n",
      "57052  PL012984   1.0                   0.000          Min             2   \n",
      "\n",
      "       pol_sit_duration pol_pay_freq pol_payd    pol_usage drv_sex1  ...  \\\n",
      "0                     1      Monthly       No  WorkPrivate        M  ...   \n",
      "1                     1      Monthly       No  WorkPrivate        M  ...   \n",
      "2                     1       Yearly      Yes      Retired        M  ...   \n",
      "3                     5       Yearly       No  WorkPrivate        F  ...   \n",
      "4                     2       Yearly       No      Retired        F  ...   \n",
      "...                 ...          ...      ...          ...      ...  ...   \n",
      "57043                 1      Monthly       No  WorkPrivate        F  ...   \n",
      "57044                 1       Yearly       No  WorkPrivate        M  ...   \n",
      "57045                 3       Yearly       No  WorkPrivate        M  ...   \n",
      "57047                 1      Monthly       No  WorkPrivate        M  ...   \n",
      "57052                 2     Biannual       No  WorkPrivate        M  ...   \n",
      "\n",
      "          vh_make_model  vh_age   vh_fuel     vh_type  vh_speed  vh_value  \\\n",
      "0      aparvvfowrjncdhp     8.0  Gasoline     Tourism     174.0   11040.0   \n",
      "1      aparvvfowrjncdhp    10.0    Diesel     Tourism     174.0   11040.0   \n",
      "2      iwhqpdfuhrsxyqxe     8.0    Diesel  Commercial     150.0   14159.0   \n",
      "3      kvcddisqpkysmvvo     4.0  Gasoline     Tourism     149.0   17233.0   \n",
      "4      tdgkjlphosocwbgu    13.0  Gasoline     Tourism     200.0   19422.0   \n",
      "...                 ...     ...       ...         ...       ...       ...   \n",
      "57043  iwhqpdfuhrsxyqxe    12.0    Diesel  Commercial     150.0   14159.0   \n",
      "57044  anqyvxqouldudiww     7.0    Diesel     Tourism     184.0   22997.0   \n",
      "57045  ismjlsoibleinjdp     2.0    Diesel     Tourism     228.0   37813.0   \n",
      "57047  bsiyfrkwdyptmwji     6.0    Diesel     Tourism     200.0   31511.0   \n",
      "57052  brjgjnnpueqkyaxo    13.0  Gasoline     Tourism     220.0   57245.0   \n",
      "\n",
      "      vh_weight  population town_surface_area claim_amount  \n",
      "0        1143.0      1270.0              33.1          0.0  \n",
      "1        1143.0      1290.0              51.3          0.0  \n",
      "2        1193.0      1020.0             262.8          0.0  \n",
      "3        1012.0       180.0             219.7          0.0  \n",
      "4        1315.0        30.0              70.3          0.0  \n",
      "...         ...         ...               ...          ...  \n",
      "57043    1193.0       120.0             464.0          0.0  \n",
      "57044    1262.0       370.0              62.9          0.0  \n",
      "57045    1578.0       250.0              36.2          0.0  \n",
      "57047    1576.0       280.0             168.4          0.0  \n",
      "57052    1491.0       250.0             222.8          0.0  \n",
      "\n",
      "[29615 rows x 26 columns]\n"
     ]
    }
   ],
   "source": [
    "df_filtered = df[(df[\"year\"] == 1) & (df[\"pol_duration\"] < 10)]\n",
    "print(df_filtered)"
   ]
  },
  {
   "cell_type": "code",
   "execution_count": 20,
   "id": "1ac15e58",
   "metadata": {},
   "outputs": [],
   "source": [
    "import openpyxl\n",
    "df_filtered.to_excel(r'Output\\filtered.xlsx', index = True)"
   ]
  },
  {
   "cell_type": "code",
   "execution_count": 46,
   "id": "d17d749d",
   "metadata": {},
   "outputs": [
    {
     "data": {
      "text/html": [
       "<div>\n",
       "<style scoped>\n",
       "    .dataframe tbody tr th:only-of-type {\n",
       "        vertical-align: middle;\n",
       "    }\n",
       "\n",
       "    .dataframe tbody tr th {\n",
       "        vertical-align: top;\n",
       "    }\n",
       "\n",
       "    .dataframe thead th {\n",
       "        text-align: right;\n",
       "    }\n",
       "</style>\n",
       "<table border=\"1\" class=\"dataframe\">\n",
       "  <thead>\n",
       "    <tr style=\"text-align: right;\">\n",
       "      <th></th>\n",
       "      <th>id_policy</th>\n",
       "      <th>drv_sex1</th>\n",
       "      <th>claim_amount</th>\n",
       "    </tr>\n",
       "  </thead>\n",
       "  <tbody>\n",
       "    <tr>\n",
       "      <th>0</th>\n",
       "      <td>PL000000</td>\n",
       "      <td>M</td>\n",
       "      <td>0.0</td>\n",
       "    </tr>\n",
       "    <tr>\n",
       "      <th>1</th>\n",
       "      <td>PL042495</td>\n",
       "      <td>M</td>\n",
       "      <td>0.0</td>\n",
       "    </tr>\n",
       "    <tr>\n",
       "      <th>2</th>\n",
       "      <td>PL042496</td>\n",
       "      <td>M</td>\n",
       "      <td>0.0</td>\n",
       "    </tr>\n",
       "    <tr>\n",
       "      <th>3</th>\n",
       "      <td>PL042497</td>\n",
       "      <td>F</td>\n",
       "      <td>0.0</td>\n",
       "    </tr>\n",
       "    <tr>\n",
       "      <th>4</th>\n",
       "      <td>PL042498</td>\n",
       "      <td>F</td>\n",
       "      <td>0.0</td>\n",
       "    </tr>\n",
       "    <tr>\n",
       "      <th>...</th>\n",
       "      <td>...</td>\n",
       "      <td>...</td>\n",
       "      <td>...</td>\n",
       "    </tr>\n",
       "    <tr>\n",
       "      <th>57043</th>\n",
       "      <td>PL000210</td>\n",
       "      <td>F</td>\n",
       "      <td>0.0</td>\n",
       "    </tr>\n",
       "    <tr>\n",
       "      <th>57044</th>\n",
       "      <td>PL004688</td>\n",
       "      <td>M</td>\n",
       "      <td>0.0</td>\n",
       "    </tr>\n",
       "    <tr>\n",
       "      <th>57045</th>\n",
       "      <td>PL014290</td>\n",
       "      <td>M</td>\n",
       "      <td>0.0</td>\n",
       "    </tr>\n",
       "    <tr>\n",
       "      <th>57047</th>\n",
       "      <td>PL003646</td>\n",
       "      <td>M</td>\n",
       "      <td>0.0</td>\n",
       "    </tr>\n",
       "    <tr>\n",
       "      <th>57052</th>\n",
       "      <td>PL012984</td>\n",
       "      <td>M</td>\n",
       "      <td>0.0</td>\n",
       "    </tr>\n",
       "  </tbody>\n",
       "</table>\n",
       "<p>29615 rows × 3 columns</p>\n",
       "</div>"
      ],
      "text/plain": [
       "      id_policy drv_sex1  claim_amount\n",
       "0      PL000000        M           0.0\n",
       "1      PL042495        M           0.0\n",
       "2      PL042496        M           0.0\n",
       "3      PL042497        F           0.0\n",
       "4      PL042498        F           0.0\n",
       "...         ...      ...           ...\n",
       "57043  PL000210        F           0.0\n",
       "57044  PL004688        M           0.0\n",
       "57045  PL014290        M           0.0\n",
       "57047  PL003646        M           0.0\n",
       "57052  PL012984        M           0.0\n",
       "\n",
       "[29615 rows x 3 columns]"
      ]
     },
     "execution_count": 46,
     "metadata": {},
     "output_type": "execute_result"
    }
   ],
   "source": [
    "df[(df[\"year\"] == 1) & (df[\"pol_duration\"] < 10)][[\"id_policy\", \"drv_sex1\", \"claim_amount\"]]"
   ]
  },
  {
   "cell_type": "code",
   "execution_count": 35,
   "id": "270d9a3b",
   "metadata": {},
   "outputs": [
    {
     "data": {
      "text/plain": [
       "pol_coverage  drv_sex1\n",
       "Max           F            9274075.19\n",
       "              M           12804380.74\n",
       "Med1          F             331688.34\n",
       "              M             719897.96\n",
       "Med2          F             931941.23\n",
       "              M            1510278.20\n",
       "Min           F             124681.46\n",
       "              M             361044.96\n",
       "Name: claim_amount, dtype: float64"
      ]
     },
     "execution_count": 35,
     "metadata": {},
     "output_type": "execute_result"
    }
   ],
   "source": [
    "df.groupby(['pol_coverage','drv_sex1'])[\"claim_amount\"].sum()"
   ]
  },
  {
   "cell_type": "code",
   "execution_count": 47,
   "id": "fb814687",
   "metadata": {},
   "outputs": [
    {
     "data": {
      "text/plain": [
       "pol_coverage  drv_sex1\n",
       "Max           F            9274075.19\n",
       "              M           12804380.74\n",
       "Med1          F             331688.34\n",
       "              M             719897.96\n",
       "Med2          F             931941.23\n",
       "              M            1510278.20\n",
       "Min           F             124681.46\n",
       "              M             361044.96\n",
       "Name: claim_amount, dtype: float64"
      ]
     },
     "execution_count": 47,
     "metadata": {},
     "output_type": "execute_result"
    }
   ],
   "source": [
    "df.groupby(['pol_coverage','drv_sex1'])['claim_amount'].agg('sum')"
   ]
  },
  {
   "cell_type": "code",
   "execution_count": 50,
   "id": "c70aea20",
   "metadata": {},
   "outputs": [
    {
     "data": {
      "text/plain": [
       "pol_coverage  drv_sex1\n",
       "Max           F           145.841723\n",
       "              M           154.407312\n",
       "Med1          F            45.213787\n",
       "              M            49.799250\n",
       "Med2          F            64.772118\n",
       "              M            58.802297\n",
       "Min           F            24.767870\n",
       "              M            24.391634\n",
       "Name: claim_amount, dtype: float64"
      ]
     },
     "execution_count": 50,
     "metadata": {},
     "output_type": "execute_result"
    }
   ],
   "source": [
    "df.groupby(['pol_coverage','drv_sex1'])['claim_amount'].agg('mean')"
   ]
  },
  {
   "cell_type": "markdown",
   "id": "c3357c3d",
   "metadata": {},
   "source": [
    "#### Data from web browser\n",
    "Let's now see how to download data directly from a web browser and manipulate it.\n"
   ]
  },
  {
   "cell_type": "code",
   "execution_count": 1,
   "id": "138ece39",
   "metadata": {},
   "outputs": [],
   "source": [
    "import pandas_datareader.data as web\n",
    "import datetime"
   ]
  },
  {
   "cell_type": "code",
   "execution_count": 2,
   "id": "ef171d5c",
   "metadata": {},
   "outputs": [],
   "source": [
    "start = datetime.datetime(2021, 8, 1)\n",
    "end = datetime.datetime(2021, 8, 31)"
   ]
  },
  {
   "cell_type": "code",
   "execution_count": 7,
   "id": "f379cf7d",
   "metadata": {},
   "outputs": [
    {
     "data": {
      "text/html": [
       "<div>\n",
       "<style scoped>\n",
       "    .dataframe tbody tr th:only-of-type {\n",
       "        vertical-align: middle;\n",
       "    }\n",
       "\n",
       "    .dataframe tbody tr th {\n",
       "        vertical-align: top;\n",
       "    }\n",
       "\n",
       "    .dataframe thead th {\n",
       "        text-align: right;\n",
       "    }\n",
       "</style>\n",
       "<table border=\"1\" class=\"dataframe\">\n",
       "  <thead>\n",
       "    <tr style=\"text-align: right;\">\n",
       "      <th></th>\n",
       "      <th>High</th>\n",
       "      <th>Low</th>\n",
       "      <th>Open</th>\n",
       "      <th>Close</th>\n",
       "      <th>Volume</th>\n",
       "      <th>Adj Close</th>\n",
       "    </tr>\n",
       "    <tr>\n",
       "      <th>Date</th>\n",
       "      <th></th>\n",
       "      <th></th>\n",
       "      <th></th>\n",
       "      <th></th>\n",
       "      <th></th>\n",
       "      <th></th>\n",
       "    </tr>\n",
       "  </thead>\n",
       "  <tbody>\n",
       "    <tr>\n",
       "      <th>2021-08-02</th>\n",
       "      <td>146.949997</td>\n",
       "      <td>145.250000</td>\n",
       "      <td>146.360001</td>\n",
       "      <td>145.520004</td>\n",
       "      <td>62880000.0</td>\n",
       "      <td>145.302307</td>\n",
       "    </tr>\n",
       "    <tr>\n",
       "      <th>2021-08-03</th>\n",
       "      <td>148.039993</td>\n",
       "      <td>145.179993</td>\n",
       "      <td>145.809998</td>\n",
       "      <td>147.360001</td>\n",
       "      <td>64786600.0</td>\n",
       "      <td>147.139542</td>\n",
       "    </tr>\n",
       "    <tr>\n",
       "      <th>2021-08-04</th>\n",
       "      <td>147.789993</td>\n",
       "      <td>146.279999</td>\n",
       "      <td>147.270004</td>\n",
       "      <td>146.949997</td>\n",
       "      <td>56368300.0</td>\n",
       "      <td>146.730164</td>\n",
       "    </tr>\n",
       "    <tr>\n",
       "      <th>2021-08-05</th>\n",
       "      <td>147.839996</td>\n",
       "      <td>146.169998</td>\n",
       "      <td>146.979996</td>\n",
       "      <td>147.059998</td>\n",
       "      <td>46397700.0</td>\n",
       "      <td>146.839996</td>\n",
       "    </tr>\n",
       "    <tr>\n",
       "      <th>2021-08-06</th>\n",
       "      <td>147.110001</td>\n",
       "      <td>145.630005</td>\n",
       "      <td>146.350006</td>\n",
       "      <td>146.139999</td>\n",
       "      <td>54067400.0</td>\n",
       "      <td>146.139999</td>\n",
       "    </tr>\n",
       "  </tbody>\n",
       "</table>\n",
       "</div>"
      ],
      "text/plain": [
       "                  High         Low        Open       Close      Volume  \\\n",
       "Date                                                                     \n",
       "2021-08-02  146.949997  145.250000  146.360001  145.520004  62880000.0   \n",
       "2021-08-03  148.039993  145.179993  145.809998  147.360001  64786600.0   \n",
       "2021-08-04  147.789993  146.279999  147.270004  146.949997  56368300.0   \n",
       "2021-08-05  147.839996  146.169998  146.979996  147.059998  46397700.0   \n",
       "2021-08-06  147.110001  145.630005  146.350006  146.139999  54067400.0   \n",
       "\n",
       "             Adj Close  \n",
       "Date                    \n",
       "2021-08-02  145.302307  \n",
       "2021-08-03  147.139542  \n",
       "2021-08-04  146.730164  \n",
       "2021-08-05  146.839996  \n",
       "2021-08-06  146.139999  "
      ]
     },
     "execution_count": 7,
     "metadata": {},
     "output_type": "execute_result"
    }
   ],
   "source": [
    "apple = web.DataReader('AAPL', 'yahoo', start, end)\n",
    "apple.head()"
   ]
  },
  {
   "cell_type": "code",
   "execution_count": 2,
   "id": "f59e626b",
   "metadata": {},
   "outputs": [
    {
     "ename": "NameError",
     "evalue": "name 'google' is not defined",
     "output_type": "error",
     "traceback": [
      "\u001b[1;31m---------------------------------------------------------------------------\u001b[0m",
      "\u001b[1;31mNameError\u001b[0m                                 Traceback (most recent call last)",
      "\u001b[1;32m~\\AppData\\Local\\Temp/ipykernel_18040/51495055.py\u001b[0m in \u001b[0;36m<module>\u001b[1;34m\u001b[0m\n\u001b[1;32m----> 1\u001b[1;33m \u001b[0mgoogle\u001b[0m\u001b[1;33m[\u001b[0m\u001b[1;34m\"Close\"\u001b[0m\u001b[1;33m]\u001b[0m\u001b[1;33m.\u001b[0m\u001b[0mhead\u001b[0m\u001b[1;33m(\u001b[0m\u001b[1;33m)\u001b[0m\u001b[1;33m\u001b[0m\u001b[1;33m\u001b[0m\u001b[0m\n\u001b[0m",
      "\u001b[1;31mNameError\u001b[0m: name 'google' is not defined"
     ]
    }
   ],
   "source": [
    "google[\"Close\"].head()"
   ]
  },
  {
   "cell_type": "markdown",
   "id": "037b0bc1",
   "metadata": {},
   "source": [
    "### 5.Vector and matrix \n",
    "In this course, we are going to discuss about Numpy and Pandas in Python. Numpy is the fundamental package for scientific computing with Python and pandas is a fast, powerful, flexible and easy to use open source data analysis and manipulation tool,\n",
    "built on top of the Python programming language. Using these both packages, we are going to create and manipulate vector, matrix, dataframe and use these objects to do calculation or data analysis. "
   ]
  },
  {
   "cell_type": "code",
   "execution_count": 3,
   "id": "5cb60cd6",
   "metadata": {},
   "outputs": [],
   "source": [
    "import numpy as np\n",
    "import pandas as pd"
   ]
  },
  {
   "cell_type": "code",
   "execution_count": 4,
   "id": "bde085c3",
   "metadata": {},
   "outputs": [
    {
     "name": "stdout",
     "output_type": "stream",
     "text": [
      "[1 2 3]\n"
     ]
    }
   ],
   "source": [
    "# This is a vector\n",
    "a = np.array([1,2,3])\n",
    "print(a)"
   ]
  },
  {
   "cell_type": "code",
   "execution_count": 5,
   "id": "f84e1955",
   "metadata": {},
   "outputs": [
    {
     "name": "stdout",
     "output_type": "stream",
     "text": [
      "[[9. 8. 7.]\n",
      " [6. 5. 4.]]\n"
     ]
    }
   ],
   "source": [
    "# This is a matrix\n",
    "b = np.array([[9.0,8.0,7.0],[6.0,5.0,4.0]])\n",
    "print(b)"
   ]
  },
  {
   "cell_type": "code",
   "execution_count": 6,
   "id": "370a4b7f",
   "metadata": {},
   "outputs": [
    {
     "data": {
      "text/plain": [
       "1"
      ]
     },
     "execution_count": 6,
     "metadata": {},
     "output_type": "execute_result"
    }
   ],
   "source": [
    "# Get Number of array dimensions. \n",
    "a.ndim"
   ]
  },
  {
   "cell_type": "code",
   "execution_count": 7,
   "id": "11badede",
   "metadata": {},
   "outputs": [
    {
     "data": {
      "text/plain": [
       "(2, 3)"
      ]
     },
     "execution_count": 7,
     "metadata": {},
     "output_type": "execute_result"
    }
   ],
   "source": [
    "b.shape"
   ]
  },
  {
   "cell_type": "markdown",
   "id": "9c8bd0bb",
   "metadata": {},
   "source": [
    "### Accessing/Changing specific elements, rows, columns, etc"
   ]
  },
  {
   "cell_type": "code",
   "execution_count": 9,
   "id": "586708d9",
   "metadata": {},
   "outputs": [
    {
     "data": {
      "text/plain": [
       "array([[ 1,  2,  3],\n",
       "       [ 4,  5,  6],\n",
       "       [ 7,  8,  9],\n",
       "       [10, 11, 12]])"
      ]
     },
     "execution_count": 9,
     "metadata": {},
     "output_type": "execute_result"
    }
   ],
   "source": [
    "s = np.array([[1,2,3], [4,5,6], [7,8,9], [10,11,12]])\n",
    "s"
   ]
  },
  {
   "cell_type": "code",
   "execution_count": 10,
   "id": "886b4904",
   "metadata": {},
   "outputs": [
    {
     "name": "stdout",
     "output_type": "stream",
     "text": [
      "6\n",
      "12\n"
     ]
    }
   ],
   "source": [
    "print(s[1,2])\n",
    "print(s[-1,-1])"
   ]
  },
  {
   "cell_type": "code",
   "execution_count": 11,
   "id": "c796f322",
   "metadata": {},
   "outputs": [
    {
     "data": {
      "text/plain": [
       "array([1, 2, 3])"
      ]
     },
     "execution_count": 11,
     "metadata": {},
     "output_type": "execute_result"
    }
   ],
   "source": [
    "t = s[0,:]\n",
    "t"
   ]
  },
  {
   "cell_type": "code",
   "execution_count": 12,
   "id": "67816378",
   "metadata": {},
   "outputs": [
    {
     "data": {
      "text/plain": [
       "array([[ 1,  2,  3],\n",
       "       [ 4,  5, 20],\n",
       "       [ 7,  8,  9],\n",
       "       [10, 11, 12]])"
      ]
     },
     "execution_count": 12,
     "metadata": {},
     "output_type": "execute_result"
    }
   ],
   "source": [
    "s[1,2] = 20\n",
    "s"
   ]
  },
  {
   "cell_type": "code",
   "execution_count": 13,
   "id": "6364b6cc",
   "metadata": {},
   "outputs": [
    {
     "data": {
      "text/plain": [
       "array([[ 1,  2,  3],\n",
       "       [ 2,  5, 20],\n",
       "       [ 3,  8,  9],\n",
       "       [ 4, 11, 12]])"
      ]
     },
     "execution_count": 13,
     "metadata": {},
     "output_type": "execute_result"
    }
   ],
   "source": [
    "s[:,0] = [1,2,3,4]\n",
    "s"
   ]
  },
  {
   "cell_type": "code",
   "execution_count": 14,
   "id": "a3d5f2d0",
   "metadata": {},
   "outputs": [
    {
     "name": "stdout",
     "output_type": "stream",
     "text": [
      "[[[1 2]\n",
      "  [3 4]]\n",
      "\n",
      " [[5 6]\n",
      "  [7 8]]]\n"
     ]
    }
   ],
   "source": [
    "b = np.array([[[1,2],[3,4]],[[5,6],[7,8]]])\n",
    "print(b)"
   ]
  },
  {
   "cell_type": "code",
   "execution_count": 15,
   "id": "92b09cb5",
   "metadata": {},
   "outputs": [
    {
     "data": {
      "text/plain": [
       "4"
      ]
     },
     "execution_count": 15,
     "metadata": {},
     "output_type": "execute_result"
    }
   ],
   "source": [
    "b[0,1,1] # First matrix, row 2, col 2"
   ]
  },
  {
   "cell_type": "code",
   "execution_count": 16,
   "id": "4627fa4e",
   "metadata": {},
   "outputs": [
    {
     "data": {
      "text/plain": [
       "8"
      ]
     },
     "execution_count": 16,
     "metadata": {},
     "output_type": "execute_result"
    }
   ],
   "source": [
    "b[1,1,1] # Second matrix, row 2, col 2"
   ]
  },
  {
   "cell_type": "code",
   "execution_count": 17,
   "id": "9979d08b",
   "metadata": {},
   "outputs": [
    {
     "data": {
      "text/plain": [
       "8"
      ]
     },
     "execution_count": 17,
     "metadata": {},
     "output_type": "execute_result"
    }
   ],
   "source": [
    "b[1,1,1] # Second matrix, row 2, col 2"
   ]
  },
  {
   "cell_type": "code",
   "execution_count": 18,
   "id": "8c0d6746",
   "metadata": {},
   "outputs": [
    {
     "data": {
      "text/plain": [
       "array([[[1, 2],\n",
       "        [9, 9]],\n",
       "\n",
       "       [[5, 6],\n",
       "        [8, 8]]])"
      ]
     },
     "execution_count": 18,
     "metadata": {},
     "output_type": "execute_result"
    }
   ],
   "source": [
    "b[:,1,:] = [[9,9],[8,8]]\n",
    "b"
   ]
  },
  {
   "cell_type": "code",
   "execution_count": 19,
   "id": "f07460ca",
   "metadata": {},
   "outputs": [
    {
     "data": {
      "text/plain": [
       "array([[0., 0., 0.],\n",
       "       [0., 0., 0.]])"
      ]
     },
     "execution_count": 19,
     "metadata": {},
     "output_type": "execute_result"
    }
   ],
   "source": [
    "np.zeros((2,3))"
   ]
  },
  {
   "cell_type": "code",
   "execution_count": 20,
   "id": "c6dcb0b9",
   "metadata": {},
   "outputs": [
    {
     "data": {
      "text/plain": [
       "array([[[1., 1.],\n",
       "        [1., 1.]],\n",
       "\n",
       "       [[1., 1.],\n",
       "        [1., 1.]],\n",
       "\n",
       "       [[1., 1.],\n",
       "        [1., 1.]],\n",
       "\n",
       "       [[1., 1.],\n",
       "        [1., 1.]]])"
      ]
     },
     "execution_count": 20,
     "metadata": {},
     "output_type": "execute_result"
    }
   ],
   "source": [
    "np.ones((4,2,2))"
   ]
  },
  {
   "cell_type": "code",
   "execution_count": 21,
   "id": "46787ee1",
   "metadata": {},
   "outputs": [
    {
     "data": {
      "text/plain": [
       "array([[99, 99],\n",
       "       [99, 99]])"
      ]
     },
     "execution_count": 21,
     "metadata": {},
     "output_type": "execute_result"
    }
   ],
   "source": [
    "np.full((2,2), 99)"
   ]
  },
  {
   "cell_type": "code",
   "execution_count": 22,
   "id": "a00a8587",
   "metadata": {},
   "outputs": [
    {
     "data": {
      "text/plain": [
       "array([4, 4, 4])"
      ]
     },
     "execution_count": 22,
     "metadata": {},
     "output_type": "execute_result"
    }
   ],
   "source": [
    "np.full_like(a, 4)"
   ]
  },
  {
   "cell_type": "code",
   "execution_count": 23,
   "id": "b656d11e",
   "metadata": {},
   "outputs": [
    {
     "data": {
      "text/plain": [
       "array([[0.23039198, 0.80699189],\n",
       "       [0.95111022, 0.72014514],\n",
       "       [0.20211665, 0.41038666],\n",
       "       [0.55220755, 0.54964209]])"
      ]
     },
     "execution_count": 23,
     "metadata": {},
     "output_type": "execute_result"
    }
   ],
   "source": [
    "np.random.rand(4,2)"
   ]
  },
  {
   "cell_type": "code",
   "execution_count": 24,
   "id": "245f6564",
   "metadata": {},
   "outputs": [
    {
     "data": {
      "text/plain": [
       "array([[ 6,  1,  7],\n",
       "       [-1,  3,  7],\n",
       "       [ 4,  2,  3]])"
      ]
     },
     "execution_count": 24,
     "metadata": {},
     "output_type": "execute_result"
    }
   ],
   "source": [
    "np.random.randint(-4,8, size=(3,3))"
   ]
  },
  {
   "cell_type": "code",
   "execution_count": 25,
   "id": "a3137f3e",
   "metadata": {},
   "outputs": [
    {
     "data": {
      "text/plain": [
       "array([[1., 0., 0., 0., 0.],\n",
       "       [0., 1., 0., 0., 0.],\n",
       "       [0., 0., 1., 0., 0.],\n",
       "       [0., 0., 0., 1., 0.],\n",
       "       [0., 0., 0., 0., 1.]])"
      ]
     },
     "execution_count": 25,
     "metadata": {},
     "output_type": "execute_result"
    }
   ],
   "source": [
    "np.identity(5)"
   ]
  },
  {
   "cell_type": "code",
   "execution_count": 26,
   "id": "3c650953",
   "metadata": {},
   "outputs": [
    {
     "name": "stdout",
     "output_type": "stream",
     "text": [
      "[[1 2 3]\n",
      " [1 2 3]\n",
      " [1 2 3]]\n"
     ]
    }
   ],
   "source": [
    "arr = np.array([[1,2,3]])\n",
    "r1 = np.repeat(arr,3, axis=0)\n",
    "print(r1)"
   ]
  },
  {
   "cell_type": "code",
   "execution_count": 27,
   "id": "216a3283",
   "metadata": {},
   "outputs": [
    {
     "name": "stdout",
     "output_type": "stream",
     "text": [
      "[[1. 1. 1. 1. 1.]\n",
      " [1. 1. 1. 1. 1.]\n",
      " [1. 1. 1. 1. 1.]\n",
      " [1. 1. 1. 1. 1.]\n",
      " [1. 1. 1. 1. 1.]]\n",
      "[[0. 0. 0.]\n",
      " [0. 9. 0.]\n",
      " [0. 0. 0.]]\n",
      "[[1. 1. 1. 1. 1.]\n",
      " [1. 0. 0. 0. 1.]\n",
      " [1. 0. 9. 0. 1.]\n",
      " [1. 0. 0. 0. 1.]\n",
      " [1. 1. 1. 1. 1.]]\n"
     ]
    }
   ],
   "source": [
    "output = np.ones((5,5))\n",
    "print(output)\n",
    "\n",
    "z = np.zeros((3,3))\n",
    "z[1,1] = 9\n",
    "print(z)\n",
    "\n",
    "output[1:-1,1:-1] = z\n",
    "print(output)"
   ]
  },
  {
   "cell_type": "code",
   "execution_count": 28,
   "id": "76a87625",
   "metadata": {},
   "outputs": [
    {
     "name": "stdout",
     "output_type": "stream",
     "text": [
      "[3 4 5 6]\n",
      "[2 4 6 8]\n",
      "[ 6  8 10 12]\n",
      "[ 1  4  9 16]\n",
      "[ 0.54030231 -0.41614684 -0.9899925  -0.65364362]\n",
      "10\n"
     ]
    }
   ],
   "source": [
    "a = np.array([1,2,3,4])\n",
    "b = np.array([5,6,7,8])\n",
    "print(a+2)\n",
    "print(a*2)\n",
    "print(a+b)\n",
    "print(a**2)\n",
    "print(np.cos(a))\n",
    "print(np.sum(a))"
   ]
  },
  {
   "cell_type": "markdown",
   "id": "88e22dfe",
   "metadata": {},
   "source": [
    "### Matrix : product, inverse, determinant, etc.."
   ]
  },
  {
   "cell_type": "code",
   "execution_count": 29,
   "id": "c05ddaee",
   "metadata": {},
   "outputs": [],
   "source": [
    "m = np.array([[1, 2, 3], [4, 5, 6], [7, 8, 9]])\n",
    "n = np.array([[10, 11, 12], [13, 14, 15], [16, 17, 18]])\n",
    "a = np.array([1,2,3,4])\n",
    "b = np.array([5,6,7,8])"
   ]
  },
  {
   "cell_type": "code",
   "execution_count": 31,
   "id": "e4734c01",
   "metadata": {},
   "outputs": [
    {
     "name": "stdout",
     "output_type": "stream",
     "text": [
      "[[1 2 3]\n",
      " [4 5 6]\n",
      " [7 8 9]]\n",
      "[[10 11 12]\n",
      " [13 14 15]\n",
      " [16 17 18]]\n",
      "[1 2 3 4]\n",
      "[5 6 7 8]\n"
     ]
    }
   ],
   "source": [
    "print(m)\n",
    "print(n)\n",
    "print(a)\n",
    "print(b)"
   ]
  },
  {
   "cell_type": "code",
   "execution_count": 35,
   "id": "c2594c4d",
   "metadata": {},
   "outputs": [
    {
     "name": "stdout",
     "output_type": "stream",
     "text": [
      "10\n",
      "70\n",
      "[[ 5  6  7  8]\n",
      " [10 12 14 16]\n",
      " [15 18 21 24]\n",
      " [20 24 28 32]]\n",
      "[[ 84  90  96]\n",
      " [201 216 231]\n",
      " [318 342 366]]\n",
      "[[ 84  90  96]\n",
      " [201 216 231]\n",
      " [318 342 366]]\n"
     ]
    }
   ],
   "source": [
    "print(np.sum(a)) # Sum of all element \n",
    "print(np.vdot(a,b)) # Return the dot product of two vectors.\n",
    "print(np.outer(a,b))\n",
    "print(np.matmul(m,n))\n",
    "print(np.dot(m,n))"
   ]
  },
  {
   "cell_type": "code",
   "execution_count": 37,
   "id": "b0bd31bb",
   "metadata": {},
   "outputs": [
    {
     "name": "stdout",
     "output_type": "stream",
     "text": [
      "[[  1  10 100]\n",
      " [  2   9  17]\n",
      " [  5   1  12]]\n"
     ]
    }
   ],
   "source": [
    "k = np.array([[1, 10, 100], [2, 9, 17], [5, 1, 12]])\n",
    "print(k)"
   ]
  },
  {
   "cell_type": "code",
   "execution_count": 38,
   "id": "4e2d2fcb",
   "metadata": {},
   "outputs": [
    {
     "name": "stdout",
     "output_type": "stream",
     "text": [
      "[[-0.0252848   0.0055571   0.20283412]\n",
      " [-0.01694915  0.13559322 -0.05084746]\n",
      " [ 0.01194776 -0.01361489  0.0030564 ]]\n",
      "[[  1   2   5]\n",
      " [ 10   9   1]\n",
      " [100  17  12]]\n",
      "-3599.0000000000014\n"
     ]
    }
   ],
   "source": [
    "print(np.linalg.inv(k))\n",
    "print(np.transpose(k))\n",
    "print(np.linalg.det(k))"
   ]
  },
  {
   "cell_type": "markdown",
   "id": "5a0143c6",
   "metadata": {},
   "source": [
    "# Exercice : Your turn !!"
   ]
  },
  {
   "cell_type": "markdown",
   "id": "6dbd1197",
   "metadata": {},
   "source": [
    "## 1) Root of quadratic function\n",
    "The goal of this exercice is to implement a quadratic function and find automatically his roots for a given set of parameters. Let's define f(x) as a quadratic function :"
   ]
  },
  {
   "cell_type": "markdown",
   "id": "f78afeae",
   "metadata": {},
   "source": [
    "$$ f(x) = ax^2 + bx + c $$"
   ]
  },
  {
   "cell_type": "markdown",
   "id": "582d3553",
   "metadata": {},
   "source": [
    "The solution of a quadratic function is all $x$ such that f(x) is null $ f(x) = 0$. The solution exist if and only if $$\\Delta = b^2 - 4 a c \\geq 0 $$. We can define solutions as follow :\n",
    "\n",
    "if $\\Delta > 0$ : $$x_{1,2} = \\frac{-b \\pm \\sqrt{\\Delta}}{2a} $$\n",
    "\n",
    "else if $\\Delta = 0$ : $$x_1 = x_2 = \\frac{-b}{2a} $$\n",
    "\n",
    "else, no solution"
   ]
  },
  {
   "cell_type": "markdown",
   "id": "9bf5508c",
   "metadata": {},
   "source": [
    "***Let's define a function with 3 parameters (a, b, c) as inputs. The outputs of this function have to be the solutions of the equation and you have to check if your solution is correct ! If no solution, I want a message that explain me why.*** "
   ]
  },
  {
   "cell_type": "markdown",
   "id": "9dcb42df",
   "metadata": {},
   "source": [
    "## 2) Root of quadratic function : multiple parameters\n",
    "\n",
    "Now, let's do the same  exercice 1) but now the inputs of the function allow multiple value by parameters and the function is able to calculate the solution for multiple quadratic functions. If I give to the function $n$ value of \"a\", $n$ value of \"b\" and $n$ of \"c\", the function has to return $n$ solution with $n$ checks"
   ]
  },
  {
   "cell_type": "markdown",
   "id": "81b2178c",
   "metadata": {},
   "source": [
    "## 3) Solving system of linear equation\n",
    "If you need any reminder on how to solve a system of linear equation using matrix, here a gentle reminder https://www.mathsisfun.com/algebra/systems-linear-equations-matrices.html \n",
    "\n",
    "Here the system of equation to solve : \n",
    "$$ x_0 + 2 x_1 = 1 $$\n",
    "$$ 3 x_0 + 5  x_1 = 2 $$\n",
    "\n",
    "Let's fin $x_0, x_1$"
   ]
  },
  {
   "cell_type": "markdown",
   "id": "460e5acc",
   "metadata": {},
   "source": [
    "## 4) Heads or Tails ?\n",
    "Let's code the game the Heads or Tails. First, you have to ask to the player his choice. Than, simulate the result of a coin toss. Finally, determine if the user win or loss.\n",
    "\n",
    "HINT : use \"randint(0,1)\" to simulate the coin toss."
   ]
  },
  {
   "cell_type": "markdown",
   "id": "b8b93d6a",
   "metadata": {},
   "source": [
    "## 5) Heads or Tails 10 000 times ? \n",
    "Can you simulate now 10 000 times this game ? I'm sure you can :)\n",
    "remark : forgot about the game, just focus about the result of a coin toss."
   ]
  }
 ],
 "metadata": {
  "kernelspec": {
   "display_name": "Python 3",
   "language": "python",
   "name": "python3"
  },
  "language_info": {
   "codemirror_mode": {
    "name": "ipython",
    "version": 3
   },
   "file_extension": ".py",
   "mimetype": "text/x-python",
   "name": "python",
   "nbconvert_exporter": "python",
   "pygments_lexer": "ipython3",
   "version": "3.11.0 (main, Oct 24 2022, 18:26:48) [MSC v.1933 64 bit (AMD64)]"
  },
  "vscode": {
   "interpreter": {
    "hash": "5238573367df39f7286bb46f9ff5f08f63a01a80960060ce41e3c79b190280fa"
   }
  }
 },
 "nbformat": 4,
 "nbformat_minor": 5
}
