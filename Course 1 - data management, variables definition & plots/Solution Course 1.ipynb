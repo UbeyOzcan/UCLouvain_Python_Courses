{
 "cells": [
  {
   "cell_type": "markdown",
   "id": "3a25b8d7",
   "metadata": {},
   "source": [
    "# Solution of quadration equation"
   ]
  },
  {
   "cell_type": "code",
   "execution_count": 1,
   "id": "e1d66210",
   "metadata": {},
   "outputs": [],
   "source": [
    "import math\n",
    "def fun(a,b,c):\n",
    "    delta = b**2 - 4*a*c\n",
    "    if(delta < 0):\n",
    "        print(\"no solution\")\n",
    "    elif(delta == 0):\n",
    "        sol = -b/(2*a)\n",
    "        print(\"x = \", sol)\n",
    "    elif(delta > 0):\n",
    "        sol1 = (-b + math.sqrt(delta))/(2*a)\n",
    "        sol2 = (-b - math.sqrt(delta))/(2*a)\n",
    "        print(\"x1 =\", sol1, \"x2 = \", sol2)"
   ]
  },
  {
   "cell_type": "code",
   "execution_count": 2,
   "id": "7c6626fd",
   "metadata": {},
   "outputs": [
    {
     "name": "stdout",
     "output_type": "stream",
     "text": [
      "x1 = 1.0 x2 =  -2.3333333333333335\n"
     ]
    }
   ],
   "source": [
    "fun(3, 4, -7)"
   ]
  },
  {
   "cell_type": "markdown",
   "id": "37fd72d6",
   "metadata": {},
   "source": [
    "# Solution of quadration equation : generalization"
   ]
  },
  {
   "cell_type": "code",
   "execution_count": 3,
   "id": "72b89170",
   "metadata": {},
   "outputs": [],
   "source": [
    "import numpy as np\n",
    "def fun2(a,b,c):\n",
    "    l = len(a)\n",
    "    n = np.arange(l)\n",
    "    for i in n:\n",
    "        delta = b[i]**2 - 4*a[i]*c[i]\n",
    "        if(delta < 0):\n",
    "            print(\"no solution\")\n",
    "        elif(delta == 0):\n",
    "            sol = -b[i]/(2*a[i])\n",
    "            print(\"x = \", sol)\n",
    "        elif(delta > 0):\n",
    "            sol1 = (-b[i] + math.sqrt(delta))/(2*a[i])\n",
    "            sol2 = (-b[i] - math.sqrt(delta))/(2*a[i])\n",
    "            print(\"x1 =\", sol1, \"x2 = \", sol2)"
   ]
  },
  {
   "cell_type": "code",
   "execution_count": 4,
   "id": "c1954cdc",
   "metadata": {},
   "outputs": [
    {
     "name": "stdout",
     "output_type": "stream",
     "text": [
      "x1 = -1.3507810593582121 x2 =  1.8507810593582121\n",
      "no solution\n",
      "x1 = 1.0 x2 =  -1.75\n"
     ]
    }
   ],
   "source": [
    "fun2([-2,3,4], [1,-2,3], [5,6,-7])"
   ]
  },
  {
   "cell_type": "markdown",
   "id": "dd77223c",
   "metadata": {},
   "source": [
    "# Solve n equation with n unkown"
   ]
  },
  {
   "cell_type": "code",
   "execution_count": 5,
   "id": "11f87a01",
   "metadata": {},
   "outputs": [
    {
     "data": {
      "text/plain": [
       "array([-1.,  1.])"
      ]
     },
     "execution_count": 5,
     "metadata": {},
     "output_type": "execute_result"
    }
   ],
   "source": [
    "a = np.array([[1, 2], [3, 5]])\n",
    "b = np.array([1, 2])\n",
    "x = np.linalg.solve(a, b)\n",
    "x"
   ]
  },
  {
   "cell_type": "markdown",
   "id": "2fbadac7",
   "metadata": {},
   "source": [
    "Verify the solution."
   ]
  },
  {
   "cell_type": "code",
   "execution_count": 6,
   "id": "e23e3054",
   "metadata": {},
   "outputs": [
    {
     "data": {
      "text/plain": [
       "True"
      ]
     },
     "execution_count": 6,
     "metadata": {},
     "output_type": "execute_result"
    }
   ],
   "source": [
    "np.allclose(np.dot(a, x), b)"
   ]
  },
  {
   "cell_type": "markdown",
   "id": "4f62d3a8",
   "metadata": {},
   "source": [
    "# Solution Toss game"
   ]
  },
  {
   "cell_type": "code",
   "execution_count": 7,
   "id": "5479a7a3",
   "metadata": {},
   "outputs": [
    {
     "name": "stdout",
     "output_type": "stream",
     "text": [
      "Please choice tail or head: tail\n",
      "...\n"
     ]
    }
   ],
   "source": [
    "from random import randint\n",
    "MyChoice = input('Please choice tail or head: ')\n",
    "dict = {0 : \"head\",\n",
    "       1 : \"tail\"}\n",
    "flip = randint(0,1)\n",
    "r = dict[flip]\n",
    "if r == MyChoice:\n",
    "    print(\"You win !!\")\n",
    "else:\n",
    "    print(\"...\")"
   ]
  },
  {
   "cell_type": "markdown",
   "id": "dbad9046",
   "metadata": {},
   "source": [
    "# Solution simulation Toss game"
   ]
  },
  {
   "cell_type": "code",
   "execution_count": 8,
   "id": "6f7ffe45",
   "metadata": {},
   "outputs": [
    {
     "data": {
      "text/html": [
       "<div>\n",
       "<style scoped>\n",
       "    .dataframe tbody tr th:only-of-type {\n",
       "        vertical-align: middle;\n",
       "    }\n",
       "\n",
       "    .dataframe tbody tr th {\n",
       "        vertical-align: top;\n",
       "    }\n",
       "\n",
       "    .dataframe thead th {\n",
       "        text-align: right;\n",
       "    }\n",
       "</style>\n",
       "<table border=\"1\" class=\"dataframe\">\n",
       "  <thead>\n",
       "    <tr style=\"text-align: right;\">\n",
       "      <th></th>\n",
       "      <th>outcome</th>\n",
       "    </tr>\n",
       "  </thead>\n",
       "  <tbody>\n",
       "    <tr>\n",
       "      <th>0</th>\n",
       "      <td>tail</td>\n",
       "    </tr>\n",
       "    <tr>\n",
       "      <th>1</th>\n",
       "      <td>head</td>\n",
       "    </tr>\n",
       "    <tr>\n",
       "      <th>2</th>\n",
       "      <td>tail</td>\n",
       "    </tr>\n",
       "    <tr>\n",
       "      <th>3</th>\n",
       "      <td>tail</td>\n",
       "    </tr>\n",
       "    <tr>\n",
       "      <th>4</th>\n",
       "      <td>tail</td>\n",
       "    </tr>\n",
       "    <tr>\n",
       "      <th>5</th>\n",
       "      <td>head</td>\n",
       "    </tr>\n",
       "    <tr>\n",
       "      <th>6</th>\n",
       "      <td>head</td>\n",
       "    </tr>\n",
       "    <tr>\n",
       "      <th>7</th>\n",
       "      <td>head</td>\n",
       "    </tr>\n",
       "    <tr>\n",
       "      <th>8</th>\n",
       "      <td>tail</td>\n",
       "    </tr>\n",
       "    <tr>\n",
       "      <th>9</th>\n",
       "      <td>tail</td>\n",
       "    </tr>\n",
       "  </tbody>\n",
       "</table>\n",
       "</div>"
      ],
      "text/plain": [
       "  outcome\n",
       "0    tail\n",
       "1    head\n",
       "2    tail\n",
       "3    tail\n",
       "4    tail\n",
       "5    head\n",
       "6    head\n",
       "7    head\n",
       "8    tail\n",
       "9    tail"
      ]
     },
     "execution_count": 8,
     "metadata": {},
     "output_type": "execute_result"
    }
   ],
   "source": [
    "import numpy as np\n",
    "import pandas as pd\n",
    "\n",
    "nbsim = 10\n",
    "dict = {0 : \"head\",\n",
    "       1 : \"tail\"}\n",
    "\n",
    "a = np.random.binomial(n = 1, p = 0.5, size = nbsim)\n",
    "n = len(a)\n",
    "result = pd.DataFrame(a)\n",
    "result.columns = [\"outcome\"]\n",
    "out = result.replace(dict)\n",
    "\n",
    "out"
   ]
  },
  {
   "cell_type": "code",
   "execution_count": 9,
   "id": "42ee61f3",
   "metadata": {},
   "outputs": [
    {
     "data": {
      "text/html": [
       "<div>\n",
       "<style scoped>\n",
       "    .dataframe tbody tr th:only-of-type {\n",
       "        vertical-align: middle;\n",
       "    }\n",
       "\n",
       "    .dataframe tbody tr th {\n",
       "        vertical-align: top;\n",
       "    }\n",
       "\n",
       "    .dataframe thead th {\n",
       "        text-align: right;\n",
       "    }\n",
       "</style>\n",
       "<table border=\"1\" class=\"dataframe\">\n",
       "  <thead>\n",
       "    <tr style=\"text-align: right;\">\n",
       "      <th></th>\n",
       "      <th>0</th>\n",
       "      <th>1</th>\n",
       "      <th>2</th>\n",
       "      <th>3</th>\n",
       "      <th>4</th>\n",
       "      <th>5</th>\n",
       "      <th>6</th>\n",
       "      <th>7</th>\n",
       "      <th>8</th>\n",
       "      <th>9</th>\n",
       "    </tr>\n",
       "  </thead>\n",
       "  <tbody>\n",
       "    <tr>\n",
       "      <th>0</th>\n",
       "      <td>head</td>\n",
       "      <td>NaN</td>\n",
       "      <td>NaN</td>\n",
       "      <td>NaN</td>\n",
       "      <td>NaN</td>\n",
       "      <td>NaN</td>\n",
       "      <td>NaN</td>\n",
       "      <td>NaN</td>\n",
       "      <td>NaN</td>\n",
       "      <td>NaN</td>\n",
       "    </tr>\n",
       "    <tr>\n",
       "      <th>1</th>\n",
       "      <td>head</td>\n",
       "      <td>tail</td>\n",
       "      <td>NaN</td>\n",
       "      <td>NaN</td>\n",
       "      <td>NaN</td>\n",
       "      <td>NaN</td>\n",
       "      <td>NaN</td>\n",
       "      <td>NaN</td>\n",
       "      <td>NaN</td>\n",
       "      <td>NaN</td>\n",
       "    </tr>\n",
       "    <tr>\n",
       "      <th>2</th>\n",
       "      <td>tail</td>\n",
       "      <td>tail</td>\n",
       "      <td>tail</td>\n",
       "      <td>NaN</td>\n",
       "      <td>NaN</td>\n",
       "      <td>NaN</td>\n",
       "      <td>NaN</td>\n",
       "      <td>NaN</td>\n",
       "      <td>NaN</td>\n",
       "      <td>NaN</td>\n",
       "    </tr>\n",
       "    <tr>\n",
       "      <th>3</th>\n",
       "      <td>head</td>\n",
       "      <td>head</td>\n",
       "      <td>head</td>\n",
       "      <td>tail</td>\n",
       "      <td>NaN</td>\n",
       "      <td>NaN</td>\n",
       "      <td>NaN</td>\n",
       "      <td>NaN</td>\n",
       "      <td>NaN</td>\n",
       "      <td>NaN</td>\n",
       "    </tr>\n",
       "    <tr>\n",
       "      <th>4</th>\n",
       "      <td>tail</td>\n",
       "      <td>head</td>\n",
       "      <td>head</td>\n",
       "      <td>tail</td>\n",
       "      <td>tail</td>\n",
       "      <td>NaN</td>\n",
       "      <td>NaN</td>\n",
       "      <td>NaN</td>\n",
       "      <td>NaN</td>\n",
       "      <td>NaN</td>\n",
       "    </tr>\n",
       "    <tr>\n",
       "      <th>5</th>\n",
       "      <td>head</td>\n",
       "      <td>tail</td>\n",
       "      <td>tail</td>\n",
       "      <td>tail</td>\n",
       "      <td>head</td>\n",
       "      <td>tail</td>\n",
       "      <td>NaN</td>\n",
       "      <td>NaN</td>\n",
       "      <td>NaN</td>\n",
       "      <td>NaN</td>\n",
       "    </tr>\n",
       "    <tr>\n",
       "      <th>6</th>\n",
       "      <td>tail</td>\n",
       "      <td>tail</td>\n",
       "      <td>head</td>\n",
       "      <td>tail</td>\n",
       "      <td>tail</td>\n",
       "      <td>tail</td>\n",
       "      <td>head</td>\n",
       "      <td>NaN</td>\n",
       "      <td>NaN</td>\n",
       "      <td>NaN</td>\n",
       "    </tr>\n",
       "    <tr>\n",
       "      <th>7</th>\n",
       "      <td>head</td>\n",
       "      <td>tail</td>\n",
       "      <td>head</td>\n",
       "      <td>tail</td>\n",
       "      <td>head</td>\n",
       "      <td>head</td>\n",
       "      <td>tail</td>\n",
       "      <td>tail</td>\n",
       "      <td>NaN</td>\n",
       "      <td>NaN</td>\n",
       "    </tr>\n",
       "    <tr>\n",
       "      <th>8</th>\n",
       "      <td>head</td>\n",
       "      <td>head</td>\n",
       "      <td>tail</td>\n",
       "      <td>tail</td>\n",
       "      <td>head</td>\n",
       "      <td>tail</td>\n",
       "      <td>tail</td>\n",
       "      <td>head</td>\n",
       "      <td>tail</td>\n",
       "      <td>NaN</td>\n",
       "    </tr>\n",
       "    <tr>\n",
       "      <th>9</th>\n",
       "      <td>head</td>\n",
       "      <td>tail</td>\n",
       "      <td>head</td>\n",
       "      <td>head</td>\n",
       "      <td>tail</td>\n",
       "      <td>head</td>\n",
       "      <td>head</td>\n",
       "      <td>head</td>\n",
       "      <td>head</td>\n",
       "      <td>tail</td>\n",
       "    </tr>\n",
       "  </tbody>\n",
       "</table>\n",
       "</div>"
      ],
      "text/plain": [
       "      0     1     2     3     4     5     6     7     8     9\n",
       "0  head   NaN   NaN   NaN   NaN   NaN   NaN   NaN   NaN   NaN\n",
       "1  head  tail   NaN   NaN   NaN   NaN   NaN   NaN   NaN   NaN\n",
       "2  tail  tail  tail   NaN   NaN   NaN   NaN   NaN   NaN   NaN\n",
       "3  head  head  head  tail   NaN   NaN   NaN   NaN   NaN   NaN\n",
       "4  tail  head  head  tail  tail   NaN   NaN   NaN   NaN   NaN\n",
       "5  head  tail  tail  tail  head  tail   NaN   NaN   NaN   NaN\n",
       "6  tail  tail  head  tail  tail  tail  head   NaN   NaN   NaN\n",
       "7  head  tail  head  tail  head  head  tail  tail   NaN   NaN\n",
       "8  head  head  tail  tail  head  tail  tail  head  tail   NaN\n",
       "9  head  tail  head  head  tail  head  head  head  head  tail"
      ]
     },
     "execution_count": 9,
     "metadata": {},
     "output_type": "execute_result"
    }
   ],
   "source": [
    "result = []\n",
    "for i in range(1,nbsim + 1):\n",
    "    result.append(np.random.binomial(n = 1, p = 0.5, size = i))\n",
    "    \n",
    "    \n",
    "df = pd.DataFrame(result, )\n",
    "df.replace(dict)"
   ]
  }
 ],
 "metadata": {
  "kernelspec": {
   "display_name": "Python 3 (ipykernel)",
   "language": "python",
   "name": "python3"
  },
  "language_info": {
   "codemirror_mode": {
    "name": "ipython",
    "version": 3
   },
   "file_extension": ".py",
   "mimetype": "text/x-python",
   "name": "python",
   "nbconvert_exporter": "python",
   "pygments_lexer": "ipython3",
   "version": "3.9.7"
  }
 },
 "nbformat": 4,
 "nbformat_minor": 5
}
