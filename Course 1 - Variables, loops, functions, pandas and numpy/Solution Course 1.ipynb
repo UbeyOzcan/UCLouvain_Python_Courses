{
 "cells": [
  {
   "cell_type": "markdown",
   "id": "3a25b8d7",
   "metadata": {},
   "source": [
    "# Solution of quadration equation"
   ]
  },
  {
   "cell_type": "code",
   "execution_count": 1,
   "id": "e1d66210",
   "metadata": {},
   "outputs": [],
   "source": [
    "import math\n",
    "def fun(a,b,c):\n",
    "    delta = b**2 - 4*a*c\n",
    "    if(delta < 0):\n",
    "        print(\"no solution\")\n",
    "    elif(delta == 0):\n",
    "        sol = -b/(2*a)\n",
    "        print(\"x = \", sol)\n",
    "    elif(delta > 0):\n",
    "        sol1 = (-b + math.sqrt(delta))/(2*a)\n",
    "        sol2 = (-b - math.sqrt(delta))/(2*a)\n",
    "        print(\"x1 =\", sol1, \"x2 = \", sol2)"
   ]
  },
  {
   "cell_type": "code",
   "execution_count": 2,
   "id": "7c6626fd",
   "metadata": {},
   "outputs": [
    {
     "name": "stdout",
     "output_type": "stream",
     "text": [
      "x1 = 1.0 x2 =  -2.3333333333333335\n"
     ]
    }
   ],
   "source": [
    "fun(3, 4, -7)"
   ]
  },
  {
   "cell_type": "markdown",
   "id": "37fd72d6",
   "metadata": {},
   "source": [
    "# Solution of quadration equation : generalization"
   ]
  },
  {
   "cell_type": "code",
   "execution_count": 3,
   "id": "72b89170",
   "metadata": {},
   "outputs": [],
   "source": [
    "import numpy as np\n",
    "def fun2(a,b,c):\n",
    "    l = len(a)\n",
    "    n = np.arange(l)\n",
    "    for i in n:\n",
    "        delta = b[i]**2 - 4*a[i]*c[i]\n",
    "        if(delta < 0):\n",
    "            print(\"no solution\")\n",
    "        elif(delta == 0):\n",
    "            sol = -b[i]/(2*a[i])\n",
    "            print(\"x = \", sol)\n",
    "        elif(delta > 0):\n",
    "            sol1 = (-b[i] + math.sqrt(delta))/(2*a[i])\n",
    "            sol2 = (-b[i] - math.sqrt(delta))/(2*a[i])\n",
    "            print(\"x1 =\", sol1, \"x2 = \", sol2)"
   ]
  },
  {
   "cell_type": "code",
   "execution_count": 4,
   "id": "c1954cdc",
   "metadata": {},
   "outputs": [
    {
     "name": "stdout",
     "output_type": "stream",
     "text": [
      "x1 = -1.3507810593582121 x2 =  1.8507810593582121\n",
      "no solution\n",
      "x1 = 1.0 x2 =  -1.75\n"
     ]
    }
   ],
   "source": [
    "fun2([-2,3,4], [1,-2,3], [5,6,-7])"
   ]
  },
  {
   "cell_type": "markdown",
   "id": "dd77223c",
   "metadata": {},
   "source": [
    "# Solve n equation with n unkown"
   ]
  },
  {
   "cell_type": "code",
   "execution_count": 5,
   "id": "11f87a01",
   "metadata": {},
   "outputs": [
    {
     "data": {
      "text/plain": [
       "array([-1.,  1.])"
      ]
     },
     "execution_count": 5,
     "metadata": {},
     "output_type": "execute_result"
    }
   ],
   "source": [
    "a = np.array([[1, 2], [3, 5]])\n",
    "b = np.array([1, 2])\n",
    "x = np.linalg.solve(a, b)\n",
    "x"
   ]
  },
  {
   "cell_type": "markdown",
   "id": "2fbadac7",
   "metadata": {},
   "source": [
    "Verify the solution."
   ]
  },
  {
   "cell_type": "code",
   "execution_count": 6,
   "id": "e23e3054",
   "metadata": {},
   "outputs": [
    {
     "data": {
      "text/plain": [
       "True"
      ]
     },
     "execution_count": 6,
     "metadata": {},
     "output_type": "execute_result"
    }
   ],
   "source": [
    "np.allclose(np.dot(a, x), b)"
   ]
  },
  {
   "cell_type": "markdown",
   "id": "4f62d3a8",
   "metadata": {},
   "source": [
    "# Solution Toss game"
   ]
  },
  {
   "cell_type": "code",
   "execution_count": 1,
   "id": "5479a7a3",
   "metadata": {},
   "outputs": [
    {
     "name": "stdout",
     "output_type": "stream",
     "text": [
      "Please choice tail or head: tail\n",
      "You win !!\n"
     ]
    }
   ],
   "source": [
    "from random import randint\n",
    "MyChoice = input('Please choice tail or head: ')\n",
    "dict = {0 : \"head\",\n",
    "       1 : \"tail\"}\n",
    "flip = randint(0,1)\n",
    "r = dict[flip]\n",
    "if r == MyChoice:\n",
    "    print(\"You win !!\")\n",
    "else:\n",
    "    print(\"...\")"
   ]
  },
  {
   "cell_type": "markdown",
   "id": "dbad9046",
   "metadata": {},
   "source": [
    "# Solution simulation Toss game"
   ]
  },
  {
   "cell_type": "code",
   "execution_count": 5,
   "id": "6f7ffe45",
   "metadata": {},
   "outputs": [
    {
     "data": {
      "image/png": "[encoded data removed]",
      "text/plain": [
       "<Figure size 432x288 with 1 Axes>"
      ]
     },
     "metadata": {
      "needs_background": "light"
     },
     "output_type": "display_data"
    }
   ],
   "source": [
    "import matplotlib.pyplot as plt\n",
    "import numpy as np\n",
    "\n",
    "def coinFlip(size):\n",
    "    flips = np.random.randint(0, 2, size=size)\n",
    "    return flips.mean()\n",
    "\n",
    "coinFlip = np.frompyfunc(coinFlip, 1, 1)\n",
    "\n",
    "xmin, xmax, dx = 1, 10000, 1\n",
    "x = np.arange(xmin, xmax, dx)\n",
    "y = coinFlip(x)\n",
    "plt.plot(x, y)\n",
    "plt.show()"
   ]
  }
 ],
 "metadata": {
  "kernelspec": {
   "display_name": "Python 3 (ipykernel)",
   "language": "python",
   "name": "python3"
  },
  "language_info": {
   "codemirror_mode": {
    "name": "ipython",
    "version": 3
   },
   "file_extension": ".py",
   "mimetype": "text/x-python",
   "name": "python",
   "nbconvert_exporter": "python",
   "pygments_lexer": "ipython3",
   "version": "3.9.12"
  }
 },
 "nbformat": 4,
 "nbformat_minor": 5
}
